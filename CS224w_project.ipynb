{
  "nbformat": 4,
  "nbformat_minor": 0,
  "metadata": {
    "accelerator": "GPU",
    "colab": {
      "provenance": [],
      "include_colab_link": true
    },
    "kernelspec": {
      "display_name": "Python 3",
      "name": "python3"
    },
    "language_info": {
      "name": "python"
    }
  },
  "cells": [
    {
      "cell_type": "markdown",
      "metadata": {
        "id": "view-in-github",
        "colab_type": "text"
      },
      "source": [
        "<a href=\"https://colab.research.google.com/github/Weimw/movielens-project/blob/main/CS224w_project.ipynb\" target=\"_parent\"><img src=\"https://colab.research.google.com/assets/colab-badge.svg\" alt=\"Open In Colab\"/></a>"
      ]
    },
    {
      "cell_type": "markdown",
      "source": [
        "# Movie Recommender System based on LightGCN"
      ],
      "metadata": {
        "id": "9A2d2MjyxqG0"
      }
    },
    {
      "cell_type": "markdown",
      "source": [
        "## 1. Install Packages and Libraries"
      ],
      "metadata": {
        "id": "aO6HhJV4NsX6"
      }
    },
    {
      "cell_type": "code",
      "metadata": {
        "id": "lxoenua1-u5r"
      },
      "source": [
        "# Install required packages.\n",
        "%%capture\n",
        "import torch\n",
        "import os\n",
        "os.environ['TORCH'] = torch.__version__\n",
        "!pip install torch-scatter -f https://data.pyg.org/whl/torch-${TORCH}.html\n",
        "!pip install torch-sparse -f https://data.pyg.org/whl/torch-${TORCH}.html\n",
        "!pip install pyg-lib -f https://data.pyg.org/whl/nightly/torch-${TORCH}.html\n",
        "!pip install git+https://github.com/pyg-team/pytorch_geometric.git"
      ],
      "execution_count": 1,
      "outputs": []
    },
    {
      "cell_type": "code",
      "metadata": {
        "id": "5OBSacx6Q03m"
      },
      "source": [
        "# import required modules\n",
        "import matplotlib.pyplot as plt\n",
        "import numpy as np\n",
        "import pandas as pd\n",
        "import random\n",
        "from sklearn.model_selection import train_test_split\n",
        "from tqdm import tqdm\n",
        "\n",
        "from torch import Tensor, nn, optim\n",
        "from torch_geometric.data import download_url, extract_zip\n",
        "from torch_geometric.nn.conv import MessagePassing\n",
        "from torch_geometric.nn.conv.gcn_conv import gcn_norm\n",
        "from torch_geometric.utils import structured_negative_sampling\n",
        "from torch_sparse import SparseTensor, matmul"
      ],
      "execution_count": 2,
      "outputs": []
    },
    {
      "cell_type": "markdown",
      "source": [
        "## 2. Data Preprocessing"
      ],
      "metadata": {
        "id": "sXnpUp2yNqzH"
      }
    },
    {
      "cell_type": "markdown",
      "source": [
        "MovieLens 100k is a well-known movie recommendation dataset that contains 100,000 movie ratings from 943 users on 1,682 movies. Each user has rated at least 20 movies on a scale of 1 to 5, and the data is provided in a matrix format where each row represents a user and each column represents a movie. The dataset also includes additional information such as movie genre and release year. MovieLens 100k is often used as a benchmark for evaluating movie recommendation models and algorithms."
      ],
      "metadata": {
        "id": "PhNjo7fqslj_"
      }
    },
    {
      "cell_type": "code",
      "metadata": {
        "colab": {
          "base_uri": "https://localhost:8080/"
        },
        "id": "6cRC_IazQ4Oj",
        "outputId": "4f774c90-0f95-4759-90de-e40fab8ae2eb"
      },
      "source": [
        "# download the dataset\n",
        "url = 'https://files.grouplens.org/datasets/movielens/ml-latest-small.zip'\n",
        "extract_zip(download_url(url, '.'), '.')\n",
        "\n",
        "movie_path = './ml-latest-small/movies.csv'\n",
        "rating_path = './ml-latest-small/ratings.csv'"
      ],
      "execution_count": 3,
      "outputs": [
        {
          "output_type": "stream",
          "name": "stderr",
          "text": [
            "Downloading https://files.grouplens.org/datasets/movielens/ml-latest-small.zip\n",
            "Extracting ./ml-latest-small.zip\n"
          ]
        }
      ]
    },
    {
      "cell_type": "markdown",
      "source": [
        "The `ratings.csv` dataset links users (identified by `userId`) and movies (identified by `movieId`). Our initial objective is to construct a dictionary that maps each entry's ID to a unique value within the range `{ 0, ..., num_rows - 1 }`. This mapping is beneficial since it reduces the size of the adjacency matrix. We then generate an `edge_index` matrix from `ratings.csv` with dimensions `[2, num_ratings]`. The first row contains the mapped userId, while the second row has the mapped `movieId`. A specific column corresponds to a connection (or rating) between a user and a movie. The `edge_index` tensor is a crucial component for message propagation throughout the graph network.\n"
      ],
      "metadata": {
        "id": "S0bzq0x6QC3U"
      }
    },
    {
      "cell_type": "code",
      "source": [
        "def preprocessing(movie_path, rating_path): \n",
        "  '''\n",
        "    Parameters:\n",
        "         movie_path (str): A string representing the file path to the movies dataset.\n",
        "         rating_path (str): A string representing the file path to the ratings dataset.\n",
        "    \n",
        "    Returns:\n",
        "         edge_index (torch.Tensor): the indices of edges in the adjacency matrix for the ratings dataset.\n",
        "         num_users (int): number of unique users in the ratings dataset.\n",
        "         num_movies (int): number of unique movies in the ratings dataset.\n",
        "         user_mapping (pd.DataFrame): the list that map user id to continguous new ids\n",
        "         movie_df (pd.DataFrame): the movie dataset\n",
        "         rating_df (pd.DataFrame): the rating dataset\n",
        "  '''\n",
        "  # load movies and ratings dataset\n",
        "  movie_df = pd.read_csv(movie_path, index_col = 'movieId')\n",
        "  rating_df = pd.read_csv(rating_path, index_col = 'userId') \n",
        "\n",
        "  # create mapping to continous range\n",
        "  movie_mapping = {idx: i for i, idx in enumerate(movie_df.index.unique())}\n",
        "  user_mapping = {idx: i for i, idx in enumerate(rating_df.index.unique())}\n",
        "  num_users, num_movies = len(rating_df.index.unique()), len(movie_df.index.unique())\n",
        "\n",
        "  rating_df = pd.read_csv(rating_path)\n",
        "  edge_index = None\n",
        "  users = [user_mapping[idx] for idx in rating_df['userId']]\n",
        "  movies = [movie_mapping[idx] for idx in rating_df['movieId']]\n",
        "\n",
        "  # filter for edges with a high rating\n",
        "  ratings = rating_df['rating'].values\n",
        "  recommend_bool = torch.from_numpy(ratings).view(-1, 1).to(torch.long) >= 4\n",
        "\n",
        "  edge_index = [[],[]]\n",
        "  for i in range(recommend_bool.shape[0]):\n",
        "    if recommend_bool[i]:\n",
        "      edge_index[0].append(users[i])\n",
        "      edge_index[1].append(movies[i])\n",
        "    \n",
        "  edge_index = torch.tensor(edge_index)\n",
        "  return edge_index, num_users, num_movies, \\\n",
        "  movie_mapping, user_mapping, movie_df, rating_df"
      ],
      "metadata": {
        "id": "mLEBcsyv5abc"
      },
      "execution_count": 4,
      "outputs": []
    },
    {
      "cell_type": "code",
      "source": [
        "edge_index, num_users, num_movies, \\\n",
        "movie_mapping, user_mapping, \\\n",
        "movie_df, rating_df = preprocessing(movie_path, rating_path)"
      ],
      "metadata": {
        "id": "lm-VDQZA_GAP"
      },
      "execution_count": 5,
      "outputs": []
    },
    {
      "cell_type": "markdown",
      "source": [
        "### A peek into the MovieLens 100K dataset"
      ],
      "metadata": {
        "id": "Gth7ZSb2tic9"
      }
    },
    {
      "cell_type": "markdown",
      "source": [
        "Let's take a look into the MovieLens dataset. We can see the `movie.csv` has the following format: `movieId title genres`\n",
        "\n"
      ],
      "metadata": {
        "id": "e4N5c7jhbZ9u"
      }
    },
    {
      "cell_type": "code",
      "source": [
        "# format for movie \n",
        "movie_df.head(10)"
      ],
      "metadata": {
        "id": "hJ1QdoYStY9z",
        "outputId": "c8a722d9-6c67-4e24-9759-c3ce5b978560",
        "colab": {
          "base_uri": "https://localhost:8080/",
          "height": 394
        }
      },
      "execution_count": 6,
      "outputs": [
        {
          "output_type": "execute_result",
          "data": {
            "text/plain": [
              "                                      title  \\\n",
              "movieId                                       \n",
              "1                          Toy Story (1995)   \n",
              "2                            Jumanji (1995)   \n",
              "3                   Grumpier Old Men (1995)   \n",
              "4                  Waiting to Exhale (1995)   \n",
              "5        Father of the Bride Part II (1995)   \n",
              "6                               Heat (1995)   \n",
              "7                            Sabrina (1995)   \n",
              "8                       Tom and Huck (1995)   \n",
              "9                       Sudden Death (1995)   \n",
              "10                         GoldenEye (1995)   \n",
              "\n",
              "                                              genres  \n",
              "movieId                                               \n",
              "1        Adventure|Animation|Children|Comedy|Fantasy  \n",
              "2                         Adventure|Children|Fantasy  \n",
              "3                                     Comedy|Romance  \n",
              "4                               Comedy|Drama|Romance  \n",
              "5                                             Comedy  \n",
              "6                              Action|Crime|Thriller  \n",
              "7                                     Comedy|Romance  \n",
              "8                                 Adventure|Children  \n",
              "9                                             Action  \n",
              "10                         Action|Adventure|Thriller  "
            ],
            "text/html": [
              "\n",
              "  <div id=\"df-f4c24cf2-de10-46ef-b483-3b0d335e9e75\">\n",
              "    <div class=\"colab-df-container\">\n",
              "      <div>\n",
              "<style scoped>\n",
              "    .dataframe tbody tr th:only-of-type {\n",
              "        vertical-align: middle;\n",
              "    }\n",
              "\n",
              "    .dataframe tbody tr th {\n",
              "        vertical-align: top;\n",
              "    }\n",
              "\n",
              "    .dataframe thead th {\n",
              "        text-align: right;\n",
              "    }\n",
              "</style>\n",
              "<table border=\"1\" class=\"dataframe\">\n",
              "  <thead>\n",
              "    <tr style=\"text-align: right;\">\n",
              "      <th></th>\n",
              "      <th>title</th>\n",
              "      <th>genres</th>\n",
              "    </tr>\n",
              "    <tr>\n",
              "      <th>movieId</th>\n",
              "      <th></th>\n",
              "      <th></th>\n",
              "    </tr>\n",
              "  </thead>\n",
              "  <tbody>\n",
              "    <tr>\n",
              "      <th>1</th>\n",
              "      <td>Toy Story (1995)</td>\n",
              "      <td>Adventure|Animation|Children|Comedy|Fantasy</td>\n",
              "    </tr>\n",
              "    <tr>\n",
              "      <th>2</th>\n",
              "      <td>Jumanji (1995)</td>\n",
              "      <td>Adventure|Children|Fantasy</td>\n",
              "    </tr>\n",
              "    <tr>\n",
              "      <th>3</th>\n",
              "      <td>Grumpier Old Men (1995)</td>\n",
              "      <td>Comedy|Romance</td>\n",
              "    </tr>\n",
              "    <tr>\n",
              "      <th>4</th>\n",
              "      <td>Waiting to Exhale (1995)</td>\n",
              "      <td>Comedy|Drama|Romance</td>\n",
              "    </tr>\n",
              "    <tr>\n",
              "      <th>5</th>\n",
              "      <td>Father of the Bride Part II (1995)</td>\n",
              "      <td>Comedy</td>\n",
              "    </tr>\n",
              "    <tr>\n",
              "      <th>6</th>\n",
              "      <td>Heat (1995)</td>\n",
              "      <td>Action|Crime|Thriller</td>\n",
              "    </tr>\n",
              "    <tr>\n",
              "      <th>7</th>\n",
              "      <td>Sabrina (1995)</td>\n",
              "      <td>Comedy|Romance</td>\n",
              "    </tr>\n",
              "    <tr>\n",
              "      <th>8</th>\n",
              "      <td>Tom and Huck (1995)</td>\n",
              "      <td>Adventure|Children</td>\n",
              "    </tr>\n",
              "    <tr>\n",
              "      <th>9</th>\n",
              "      <td>Sudden Death (1995)</td>\n",
              "      <td>Action</td>\n",
              "    </tr>\n",
              "    <tr>\n",
              "      <th>10</th>\n",
              "      <td>GoldenEye (1995)</td>\n",
              "      <td>Action|Adventure|Thriller</td>\n",
              "    </tr>\n",
              "  </tbody>\n",
              "</table>\n",
              "</div>\n",
              "      <button class=\"colab-df-convert\" onclick=\"convertToInteractive('df-f4c24cf2-de10-46ef-b483-3b0d335e9e75')\"\n",
              "              title=\"Convert this dataframe to an interactive table.\"\n",
              "              style=\"display:none;\">\n",
              "        \n",
              "  <svg xmlns=\"http://www.w3.org/2000/svg\" height=\"24px\"viewBox=\"0 0 24 24\"\n",
              "       width=\"24px\">\n",
              "    <path d=\"M0 0h24v24H0V0z\" fill=\"none\"/>\n",
              "    <path d=\"M18.56 5.44l.94 2.06.94-2.06 2.06-.94-2.06-.94-.94-2.06-.94 2.06-2.06.94zm-11 1L8.5 8.5l.94-2.06 2.06-.94-2.06-.94L8.5 2.5l-.94 2.06-2.06.94zm10 10l.94 2.06.94-2.06 2.06-.94-2.06-.94-.94-2.06-.94 2.06-2.06.94z\"/><path d=\"M17.41 7.96l-1.37-1.37c-.4-.4-.92-.59-1.43-.59-.52 0-1.04.2-1.43.59L10.3 9.45l-7.72 7.72c-.78.78-.78 2.05 0 2.83L4 21.41c.39.39.9.59 1.41.59.51 0 1.02-.2 1.41-.59l7.78-7.78 2.81-2.81c.8-.78.8-2.07 0-2.86zM5.41 20L4 18.59l7.72-7.72 1.47 1.35L5.41 20z\"/>\n",
              "  </svg>\n",
              "      </button>\n",
              "      \n",
              "  <style>\n",
              "    .colab-df-container {\n",
              "      display:flex;\n",
              "      flex-wrap:wrap;\n",
              "      gap: 12px;\n",
              "    }\n",
              "\n",
              "    .colab-df-convert {\n",
              "      background-color: #E8F0FE;\n",
              "      border: none;\n",
              "      border-radius: 50%;\n",
              "      cursor: pointer;\n",
              "      display: none;\n",
              "      fill: #1967D2;\n",
              "      height: 32px;\n",
              "      padding: 0 0 0 0;\n",
              "      width: 32px;\n",
              "    }\n",
              "\n",
              "    .colab-df-convert:hover {\n",
              "      background-color: #E2EBFA;\n",
              "      box-shadow: 0px 1px 2px rgba(60, 64, 67, 0.3), 0px 1px 3px 1px rgba(60, 64, 67, 0.15);\n",
              "      fill: #174EA6;\n",
              "    }\n",
              "\n",
              "    [theme=dark] .colab-df-convert {\n",
              "      background-color: #3B4455;\n",
              "      fill: #D2E3FC;\n",
              "    }\n",
              "\n",
              "    [theme=dark] .colab-df-convert:hover {\n",
              "      background-color: #434B5C;\n",
              "      box-shadow: 0px 1px 3px 1px rgba(0, 0, 0, 0.15);\n",
              "      filter: drop-shadow(0px 1px 2px rgba(0, 0, 0, 0.3));\n",
              "      fill: #FFFFFF;\n",
              "    }\n",
              "  </style>\n",
              "\n",
              "      <script>\n",
              "        const buttonEl =\n",
              "          document.querySelector('#df-f4c24cf2-de10-46ef-b483-3b0d335e9e75 button.colab-df-convert');\n",
              "        buttonEl.style.display =\n",
              "          google.colab.kernel.accessAllowed ? 'block' : 'none';\n",
              "\n",
              "        async function convertToInteractive(key) {\n",
              "          const element = document.querySelector('#df-f4c24cf2-de10-46ef-b483-3b0d335e9e75');\n",
              "          const dataTable =\n",
              "            await google.colab.kernel.invokeFunction('convertToInteractive',\n",
              "                                                     [key], {});\n",
              "          if (!dataTable) return;\n",
              "\n",
              "          const docLinkHtml = 'Like what you see? Visit the ' +\n",
              "            '<a target=\"_blank\" href=https://colab.research.google.com/notebooks/data_table.ipynb>data table notebook</a>'\n",
              "            + ' to learn more about interactive tables.';\n",
              "          element.innerHTML = '';\n",
              "          dataTable['output_type'] = 'display_data';\n",
              "          await google.colab.output.renderOutput(dataTable, element);\n",
              "          const docLink = document.createElement('div');\n",
              "          docLink.innerHTML = docLinkHtml;\n",
              "          element.appendChild(docLink);\n",
              "        }\n",
              "      </script>\n",
              "    </div>\n",
              "  </div>\n",
              "  "
            ]
          },
          "metadata": {},
          "execution_count": 6
        }
      ]
    },
    {
      "cell_type": "markdown",
      "source": [
        "The `rating.csv` has the following format of `userId, movieId, rating, timestamp`. For the raitng prediction task, we only need the first three fields for the purpose of our task."
      ],
      "metadata": {
        "id": "e6n1vPXtb62V"
      }
    },
    {
      "cell_type": "code",
      "source": [
        "# format for ratings\n",
        "rating_df.head(10)"
      ],
      "metadata": {
        "id": "ZAdRhX80twp8",
        "outputId": "e360562e-6479-4778-a188-46c4a29389b2",
        "colab": {
          "base_uri": "https://localhost:8080/",
          "height": 363
        }
      },
      "execution_count": 7,
      "outputs": [
        {
          "output_type": "execute_result",
          "data": {
            "text/plain": [
              "   userId  movieId  rating  timestamp\n",
              "0       1        1     4.0  964982703\n",
              "1       1        3     4.0  964981247\n",
              "2       1        6     4.0  964982224\n",
              "3       1       47     5.0  964983815\n",
              "4       1       50     5.0  964982931\n",
              "5       1       70     3.0  964982400\n",
              "6       1      101     5.0  964980868\n",
              "7       1      110     4.0  964982176\n",
              "8       1      151     5.0  964984041\n",
              "9       1      157     5.0  964984100"
            ],
            "text/html": [
              "\n",
              "  <div id=\"df-78dd1ff0-c0a4-4b04-b090-739eed54df11\">\n",
              "    <div class=\"colab-df-container\">\n",
              "      <div>\n",
              "<style scoped>\n",
              "    .dataframe tbody tr th:only-of-type {\n",
              "        vertical-align: middle;\n",
              "    }\n",
              "\n",
              "    .dataframe tbody tr th {\n",
              "        vertical-align: top;\n",
              "    }\n",
              "\n",
              "    .dataframe thead th {\n",
              "        text-align: right;\n",
              "    }\n",
              "</style>\n",
              "<table border=\"1\" class=\"dataframe\">\n",
              "  <thead>\n",
              "    <tr style=\"text-align: right;\">\n",
              "      <th></th>\n",
              "      <th>userId</th>\n",
              "      <th>movieId</th>\n",
              "      <th>rating</th>\n",
              "      <th>timestamp</th>\n",
              "    </tr>\n",
              "  </thead>\n",
              "  <tbody>\n",
              "    <tr>\n",
              "      <th>0</th>\n",
              "      <td>1</td>\n",
              "      <td>1</td>\n",
              "      <td>4.0</td>\n",
              "      <td>964982703</td>\n",
              "    </tr>\n",
              "    <tr>\n",
              "      <th>1</th>\n",
              "      <td>1</td>\n",
              "      <td>3</td>\n",
              "      <td>4.0</td>\n",
              "      <td>964981247</td>\n",
              "    </tr>\n",
              "    <tr>\n",
              "      <th>2</th>\n",
              "      <td>1</td>\n",
              "      <td>6</td>\n",
              "      <td>4.0</td>\n",
              "      <td>964982224</td>\n",
              "    </tr>\n",
              "    <tr>\n",
              "      <th>3</th>\n",
              "      <td>1</td>\n",
              "      <td>47</td>\n",
              "      <td>5.0</td>\n",
              "      <td>964983815</td>\n",
              "    </tr>\n",
              "    <tr>\n",
              "      <th>4</th>\n",
              "      <td>1</td>\n",
              "      <td>50</td>\n",
              "      <td>5.0</td>\n",
              "      <td>964982931</td>\n",
              "    </tr>\n",
              "    <tr>\n",
              "      <th>5</th>\n",
              "      <td>1</td>\n",
              "      <td>70</td>\n",
              "      <td>3.0</td>\n",
              "      <td>964982400</td>\n",
              "    </tr>\n",
              "    <tr>\n",
              "      <th>6</th>\n",
              "      <td>1</td>\n",
              "      <td>101</td>\n",
              "      <td>5.0</td>\n",
              "      <td>964980868</td>\n",
              "    </tr>\n",
              "    <tr>\n",
              "      <th>7</th>\n",
              "      <td>1</td>\n",
              "      <td>110</td>\n",
              "      <td>4.0</td>\n",
              "      <td>964982176</td>\n",
              "    </tr>\n",
              "    <tr>\n",
              "      <th>8</th>\n",
              "      <td>1</td>\n",
              "      <td>151</td>\n",
              "      <td>5.0</td>\n",
              "      <td>964984041</td>\n",
              "    </tr>\n",
              "    <tr>\n",
              "      <th>9</th>\n",
              "      <td>1</td>\n",
              "      <td>157</td>\n",
              "      <td>5.0</td>\n",
              "      <td>964984100</td>\n",
              "    </tr>\n",
              "  </tbody>\n",
              "</table>\n",
              "</div>\n",
              "      <button class=\"colab-df-convert\" onclick=\"convertToInteractive('df-78dd1ff0-c0a4-4b04-b090-739eed54df11')\"\n",
              "              title=\"Convert this dataframe to an interactive table.\"\n",
              "              style=\"display:none;\">\n",
              "        \n",
              "  <svg xmlns=\"http://www.w3.org/2000/svg\" height=\"24px\"viewBox=\"0 0 24 24\"\n",
              "       width=\"24px\">\n",
              "    <path d=\"M0 0h24v24H0V0z\" fill=\"none\"/>\n",
              "    <path d=\"M18.56 5.44l.94 2.06.94-2.06 2.06-.94-2.06-.94-.94-2.06-.94 2.06-2.06.94zm-11 1L8.5 8.5l.94-2.06 2.06-.94-2.06-.94L8.5 2.5l-.94 2.06-2.06.94zm10 10l.94 2.06.94-2.06 2.06-.94-2.06-.94-.94-2.06-.94 2.06-2.06.94z\"/><path d=\"M17.41 7.96l-1.37-1.37c-.4-.4-.92-.59-1.43-.59-.52 0-1.04.2-1.43.59L10.3 9.45l-7.72 7.72c-.78.78-.78 2.05 0 2.83L4 21.41c.39.39.9.59 1.41.59.51 0 1.02-.2 1.41-.59l7.78-7.78 2.81-2.81c.8-.78.8-2.07 0-2.86zM5.41 20L4 18.59l7.72-7.72 1.47 1.35L5.41 20z\"/>\n",
              "  </svg>\n",
              "      </button>\n",
              "      \n",
              "  <style>\n",
              "    .colab-df-container {\n",
              "      display:flex;\n",
              "      flex-wrap:wrap;\n",
              "      gap: 12px;\n",
              "    }\n",
              "\n",
              "    .colab-df-convert {\n",
              "      background-color: #E8F0FE;\n",
              "      border: none;\n",
              "      border-radius: 50%;\n",
              "      cursor: pointer;\n",
              "      display: none;\n",
              "      fill: #1967D2;\n",
              "      height: 32px;\n",
              "      padding: 0 0 0 0;\n",
              "      width: 32px;\n",
              "    }\n",
              "\n",
              "    .colab-df-convert:hover {\n",
              "      background-color: #E2EBFA;\n",
              "      box-shadow: 0px 1px 2px rgba(60, 64, 67, 0.3), 0px 1px 3px 1px rgba(60, 64, 67, 0.15);\n",
              "      fill: #174EA6;\n",
              "    }\n",
              "\n",
              "    [theme=dark] .colab-df-convert {\n",
              "      background-color: #3B4455;\n",
              "      fill: #D2E3FC;\n",
              "    }\n",
              "\n",
              "    [theme=dark] .colab-df-convert:hover {\n",
              "      background-color: #434B5C;\n",
              "      box-shadow: 0px 1px 3px 1px rgba(0, 0, 0, 0.15);\n",
              "      filter: drop-shadow(0px 1px 2px rgba(0, 0, 0, 0.3));\n",
              "      fill: #FFFFFF;\n",
              "    }\n",
              "  </style>\n",
              "\n",
              "      <script>\n",
              "        const buttonEl =\n",
              "          document.querySelector('#df-78dd1ff0-c0a4-4b04-b090-739eed54df11 button.colab-df-convert');\n",
              "        buttonEl.style.display =\n",
              "          google.colab.kernel.accessAllowed ? 'block' : 'none';\n",
              "\n",
              "        async function convertToInteractive(key) {\n",
              "          const element = document.querySelector('#df-78dd1ff0-c0a4-4b04-b090-739eed54df11');\n",
              "          const dataTable =\n",
              "            await google.colab.kernel.invokeFunction('convertToInteractive',\n",
              "                                                     [key], {});\n",
              "          if (!dataTable) return;\n",
              "\n",
              "          const docLinkHtml = 'Like what you see? Visit the ' +\n",
              "            '<a target=\"_blank\" href=https://colab.research.google.com/notebooks/data_table.ipynb>data table notebook</a>'\n",
              "            + ' to learn more about interactive tables.';\n",
              "          element.innerHTML = '';\n",
              "          dataTable['output_type'] = 'display_data';\n",
              "          await google.colab.output.renderOutput(dataTable, element);\n",
              "          const docLink = document.createElement('div');\n",
              "          docLink.innerHTML = docLinkHtml;\n",
              "          element.appendChild(docLink);\n",
              "        }\n",
              "      </script>\n",
              "    </div>\n",
              "  </div>\n",
              "  "
            ]
          },
          "metadata": {},
          "execution_count": 7
        }
      ]
    },
    {
      "cell_type": "markdown",
      "source": [
        "We also need to know the rating scales because we need to determine beyond what scores we can say that a user likes the movies. "
      ],
      "metadata": {
        "id": "xdxnMjKHtDhG"
      }
    },
    {
      "cell_type": "code",
      "source": [
        "# what are the ratings\n",
        "sorted(pd.unique(rating_df['rating']))"
      ],
      "metadata": {
        "id": "az7ncS0yuyWF",
        "outputId": "a9b14f26-dbe8-4c9a-f80f-fca6b062c8f3",
        "colab": {
          "base_uri": "https://localhost:8080/"
        }
      },
      "execution_count": 8,
      "outputs": [
        {
          "output_type": "execute_result",
          "data": {
            "text/plain": [
              "[0.5, 1.0, 1.5, 2.0, 2.5, 3.0, 3.5, 4.0, 4.5, 5.0]"
            ]
          },
          "metadata": {},
          "execution_count": 8
        }
      ]
    },
    {
      "cell_type": "markdown",
      "source": [
        "### Prepare datasets"
      ],
      "metadata": {
        "id": "9h4S1ncBvK8d"
      }
    },
    {
      "cell_type": "markdown",
      "source": [
        "Next, we divide the complete dataset into training, validation, and testing sets. The partition is made based on the edges in the graph. More specifically, we randomly separate the data into three groups with an 80/10/10 split ratio. This implies that each group will contain a portion of the `edge_index` subset."
      ],
      "metadata": {
        "id": "HVRWWdhbRqhu"
      }
    },
    {
      "cell_type": "code",
      "source": [
        "# split the edges into train set and test set \n",
        "num_ratings = edge_index.shape[1]\n",
        "rating_indices = np.arange(num_ratings)\n",
        "\n",
        "indices_train, indices_val_test = train_test_split(rating_indices, test_size = 0.2, random_state = 42)\n",
        "indices_val, indices_test = train_test_split(indices_val_test, test_size = 0.5, random_state = 42)\n",
        "\n",
        "# slice the whole dataset by split indices, then convert to SparseTensor for later training\n",
        "def generate_edge(edge_indices):\n",
        "  '''\n",
        "  Paramters:\n",
        "      edge_indices (np.ndarray): An array representing the indices of edges in the dataset.\n",
        "\n",
        "  Returns:\n",
        "      sub_edge_index (torch.Tensor): indices of edges in the specified subset.\n",
        "      edge_index_sparse (SparseTensor): A sparse tensor representing the adjacency matrix for the subset of edges.\n",
        "  '''\n",
        "  sub_edge_index = edge_index[:, edge_indices]\n",
        "  num_nodes = num_users + num_movies\n",
        "  edge_index_sparse = SparseTensor(row = sub_edge_index[0],\n",
        "                                   col = sub_edge_index[1],\n",
        "                                   sparse_sizes = (num_nodes, num_nodes))\n",
        "  return sub_edge_index, edge_index_sparse\n",
        "\n",
        "train_edge_index, train_sparse_edge_index = generate_edge(indices_train)\n",
        "val_edge_index, val_sparse_edge_index = generate_edge(indices_val)\n",
        "test_edge_index, test_sparse_edge_index = generate_edge(indices_test)"
      ],
      "metadata": {
        "id": "d9op9aVbTFIf"
      },
      "execution_count": 9,
      "outputs": []
    },
    {
      "cell_type": "markdown",
      "source": [
        "During the training phase, we will use mini-batches and select a number of positive and negative edges within each batch. Positive edges refer to observed or training user-item interactions. We aim to punish negative edges during training by allocating them with a greater loss. To achieve this, we will make use of the PyG function called `structured_negative_sampling,` which selects a negative edge for every positive edge in the graph as defined by `edge_index`."
      ],
      "metadata": {
        "id": "tvZpaxT_aFCd"
      }
    },
    {
      "cell_type": "code",
      "source": [
        "edges = structured_negative_sampling(train_edge_index)\n",
        "edges = torch.stack(edges, dim=0)\n",
        "edges"
      ],
      "metadata": {
        "colab": {
          "base_uri": "https://localhost:8080/"
        },
        "id": "_uxt8LxCnkE7",
        "outputId": "d10bde63-ec78-48f7-f09d-1e40ba0d5fc8"
      },
      "execution_count": 10,
      "outputs": [
        {
          "output_type": "execute_result",
          "data": {
            "text/plain": [
              "tensor([[ 408,  579,    2,  ...,  482,   15,  205],\n",
              "        [ 863,  990, 3734,  ..., 5729,  561,  621],\n",
              "        [1981, 8144, 8815,  ..., 3495, 9176, 4425]])"
            ]
          },
          "metadata": {},
          "execution_count": 10
        }
      ]
    },
    {
      "cell_type": "code",
      "metadata": {
        "id": "KqKI1VduKcwf"
      },
      "source": [
        "def mini_batch_sample(batch_size, edge_index):\n",
        "    \"\"\"\n",
        "    Randomly samples indices of a minibatch given an adjacency matrix.\n",
        "    These tensors represent the indices of the sampled minibatch, where:\n",
        "    - user indices: indices of the users in the sampled edges\n",
        "    - positive item indices: indices of the positive items in the sampled edges\n",
        "    - negative item indices: indices of the negative items in the sampled edges\n",
        "\n",
        "    Parameters:\n",
        "    batch_size (int): The desired minibatch size.\n",
        "    edge_index (torch.Tensor): A 2 by N tensor representing the edges.\n",
        "\n",
        "    Returns:\n",
        "    user indices, positive item indices, negative item indices (torch.Tensor)\n",
        "    \"\"\"\n",
        "    edges = structured_negative_sampling(edge_index)\n",
        "    edges = torch.stack(edges, dim=0)\n",
        "    indices = torch.randperm(edges.shape[1])[:batch_size]\n",
        "    batch = edges[:, indices]\n",
        "    user_indices, pos_item_indices, neg_item_indices = batch[0], batch[1], batch[2]\n",
        "    return user_indices, pos_item_indices, neg_item_indices"
      ],
      "execution_count": 11,
      "outputs": []
    },
    {
      "cell_type": "markdown",
      "source": [
        "## 3.Model Architecture"
      ],
      "metadata": {
        "id": "c6uMVxdDqUAT"
      }
    },
    {
      "cell_type": "markdown",
      "source": [
        "LightGCN is a recommender system model that belongs to the family of graph convolutional networks (GCNs). The primary objective of LightGCN is to provide personalized recommendations by exploiting the user-item interaction graph's structure. Unlike other graph-based recommendation methods that use complex graph neural networks (GNNs), LightGCN omits the feature transformation and non-linearity, which requires fewer parameters and has a faster training time. The model's architecture involves performing several layers of graph convolutions to propagate user-item embeddings, which are then used to generate personalized recommendations. LightGCN has demonstrated competitive performance in terms of recommendation quality while being computationally efficient. For more information, you can find the [orginal paper](https://arxiv.org/pdf/2002.02126.pdf) here."
      ],
      "metadata": {
        "id": "lF-_2S6AnvXB"
      }
    },
    {
      "cell_type": "markdown",
      "metadata": {
        "id": "JOB5kDmtUrUY"
      },
      "source": [
        "## Light Graph Convolution\n",
        "Between each layer, LightGCN uses the following propagation rule for user and item embeddings.\n",
        "\n",
        "\\begin{equation}\n",
        "e_u^{(k+1)} = \\sum_{i \\in N_u} \\frac{1}{\\sqrt{|N_u|}\\sqrt{|N_i|}} e_i^{(k)} \\quad e_i^{(k+1)} = \\sum_{u \\in N_i} \\frac{1}{\\sqrt{|N_i|}\\sqrt{|N_u|}} e_u^{(k)}\n",
        "\\end{equation}\n",
        "\n",
        "$N_u$: the set of all neighbors of user $u$ (items liked by $u$)\n",
        "\n",
        "$N_i$: the set of all neighbors of item $i$ (users who liked $i$)\n",
        "\n",
        "$e_u^{(k)}$ : k-th layer user embedding\n",
        "\n",
        "$e_i^{(k)}$ : k-th layer item embedding\n",
        "\n",
        "\n",
        "\n",
        "## Encoder and Decoder\n",
        "The LightGCN model's only adjustable parameters are the initial embeddings for each user and item in the 0-th layer, denoted as $e_u^{(0)}$ and $e_i^{(0)}$, respectively. The final embeddings for all users and items, represented as $e_u$ and $e_i$, are created by merging the embeddings acquired at each propagation layer using the following formula.\n",
        "\n",
        "\n",
        "\\begin{equation}\n",
        "e_u = \\sum_{k = 0}^K \\alpha_k e_u^{(k)} \\quad e_i = \\sum_{k = 0}^K \\alpha_k e_i^{(k)}\n",
        "\\end{equation}\n",
        "\n",
        "$\\alpha_k$ : hyperparameter which weights the contribution of the k-th layer embedding to the final embedding\n",
        "\n",
        "The model prediction is obtained by taking the inner product of the final user and item embeddings.\n",
        "\n",
        "\\begin{equation}\n",
        "\\hat{y}_{ui} = e_u^Te_i\n",
        "\\end{equation}\n"
      ]
    },
    {
      "cell_type": "code",
      "metadata": {
        "id": "o9GvYg9ehDOX"
      },
      "source": [
        "# defines LightGCN model\n",
        "class LightGCN(MessagePassing):\n",
        "    \"\"\"\n",
        "    LightGCN Model, see reference: https://arxiv.org/abs/2002.02126\n",
        "    We omit a dedicated class for LightGCNConvs for easy access to embeddings\n",
        "    \"\"\"\n",
        "\n",
        "    def __init__(self, num_users, num_items, hidden_dim, num_layers):\n",
        "        super().__init__()\n",
        "        self.num_users = num_users\n",
        "        self.num_items = num_items\n",
        "        self.hidden_dim = hidden_dim\n",
        "        self.num_layers = num_layers\n",
        "\n",
        "        self.users_emb = nn.Embedding(self.num_users, self.hidden_dim)\n",
        "        self.items_emb = nn.Embedding(self.num_items, self.hidden_dim)\n",
        "\n",
        "        nn.init.normal_(self.users_emb.weight, std=0.1)\n",
        "        nn.init.normal_(self.items_emb.weight, std=0.1)\n",
        "\n",
        "    def forward(self, edge_index):\n",
        "        \"\"\"\n",
        "        Forward pass of the LightGCN model. Returns the init and final\n",
        "        embeddings of the user and item\n",
        "        \"\"\"\n",
        "        edge_index_norm = gcn_norm(edge_index, False)\n",
        "\n",
        "        # The first layer, concat embeddings\n",
        "        x0 = torch.cat([self.users_emb.weight, self.items_emb.weight])\n",
        "        xs = [x0]\n",
        "        xi = x0\n",
        "\n",
        "        # pass x to the next layer\n",
        "        for i in range(self.num_layers):\n",
        "            xi = self.propagate(edge_index_norm, x=xi)\n",
        "            xs.append(xi)\n",
        "\n",
        "        xs = torch.stack(xs, dim=1)\n",
        "        x_final = torch.mean(xs, dim=1)\n",
        "\n",
        "        users_emb, items_emb = \\\n",
        "        torch.split(x_final, [self.num_users, self.num_items])\n",
        "\n",
        "        return users_emb, self.users_emb.weight, items_emb, self.items_emb.weight\n",
        "\n",
        "    def message(self, x):\n",
        "        return x\n",
        "\n",
        "    def propagate(self, edge_index, x):\n",
        "        x = self.message_and_aggregate(edge_index, x)\n",
        "        return x\n",
        "\n",
        "    def message_and_aggregate(self, edge_index, x):\n",
        "        return matmul(edge_index, x)\n"
      ],
      "execution_count": 12,
      "outputs": []
    },
    {
      "cell_type": "markdown",
      "metadata": {
        "id": "My8eqloiBccE"
      },
      "source": [
        "## Loss Function\n",
        "\n",
        "\n",
        "The model's training objective in LightGCN is based on a pairwise Bayesian Personalized Ranking (BPR) loss. This loss aims to ensure that the model's predictions for positive samples are higher than those for negative samples for each user. The BPR loss function is defined as follows:\n",
        "\n",
        "\\begin{equation}\n",
        "L_{BPR} = -\\sum_{u = 1}^M \\sum_{i \\in N_u} \\sum_{j \\notin N_u} \\ln{\\sigma(\\hat{y}_{ui} - \\hat{y}_{uj})} + \\lambda ||E^{(0)}||^2 \n",
        "\\end{equation}\n",
        "\n",
        "$\\hat{y}_{u}$: predicted score of a positive sample\n",
        "\n",
        "$\\hat{y}_{uj}$: predicted score of a negative sample\n",
        "\n",
        "$\\lambda$: L-2 regularization strength"
      ]
    },
    {
      "cell_type": "code",
      "metadata": {
        "id": "QmPs1xS-BYfe"
      },
      "source": [
        "def bpr_loss(users_emb, user_emb_0, pos_emb, pos_emb_0, neg_emb, neg_emb_0, lambda_val):\n",
        "    \"\"\"\n",
        "    Calculate the Bayesian Personalzied Ranking loss.\n",
        "\n",
        "    Parameters:\n",
        "    users_emb (torch.Tensor): The final output of user embedding\n",
        "    user_emb_0 (torch.Tensor): The initial user embedding\n",
        "    pos_emb (torch.Tensor):  The final positive item embedding \n",
        "    pos_emb_0 (torch.Tensor): The initial item embedding\n",
        "    neg_emb (torch.Tensor): The final negtive item embedding\n",
        "    neg_emb_0 (torch.Tensor): The inital negtive item embedding\n",
        "    lambda_val (float): L2 regulatization strength\n",
        "\n",
        "    Returns:\n",
        "    loss (float): The BPR loss\n",
        "    \"\"\"\n",
        "    pos_scores = torch.sum(users_emb * pos_emb, dim=1) \n",
        "    neg_scores = torch.sum(users_emb * neg_emb, dim=1)\n",
        "    losses = -torch.log(torch.sigmoid(pos_scores - neg_scores))\n",
        "    loss = torch.mean(losses) + lambda_val * \\\n",
        "    (torch.norm(users_emb_0) + torch.norm(pos_emb_0) + torch.norm(neg_emb_0))\n",
        "    \n",
        "    return loss"
      ],
      "execution_count": 13,
      "outputs": []
    },
    {
      "cell_type": "markdown",
      "source": [
        "## 4.Evaluation Metrics"
      ],
      "metadata": {
        "id": "X-BrXDrgqt18"
      }
    },
    {
      "cell_type": "markdown",
      "source": [
        "The evaluation metric we will use is **Recall@K**, it is defined as the proportion of relevant items that are recommended to a user among the top-K items recommended by the algorithm. \\\\\n",
        "For each user $u$, \\\\\n",
        "Let $P_{u}$ be a set of positive items the user will interact in the future. \\\\\n",
        "Let $R_{u}$ be a set of items recommended by the model, in top-K recommendation, $|R_{u}| = K$. Items that users has already interacted are excluded.\n",
        "\n",
        "![picture](https://drive.google.com/uc?id=1Ea3_y0eLNNKZT2p13Sa-umZccVuNtRvo)\n",
        "\n",
        "**Recall@K** for user $u$ is $|P_{u}\\cap R_{u}| / |P_{u}|$. \\\\\n",
        "The final Recall@K is computed by averaging the recall values across all users.\n"
      ],
      "metadata": {
        "id": "Z5hSZPcgWe7-"
      }
    },
    {
      "cell_type": "code",
      "source": [
        "def evaluation(model, edge_index, sparse_edge_index, mask_index, k, lambda_val):\n",
        "    \"\"\"\n",
        "    Evaluates model loss and metrics including recall, precision on the \n",
        "    Parameters:\n",
        "    model: LightGCN model to evaluate.\n",
        "    edge_index (torch.Tensor): Edges for the split to evaluate.\n",
        "    sparse_edge_index (torch.SparseTensor): Sparse adjacency matrix.\n",
        "    mask_index(torch.Tensor): Edges to remove from evaluation, in the form of a list.\n",
        "    k (int): Top k items to consider for evaluation.\n",
        "\n",
        "    Returns: loss, recall, precision\n",
        "        - loss: The loss value of the model on the given split.\n",
        "        - recall: The recall value of the model on the given split.\n",
        "        - precision: The precision value of the model on the given split.\n",
        "    \"\"\"\n",
        "    # get embeddings and calculate the loss\n",
        "    users_emb, users_emb_0, items_emb, items_emb_0 = model.forward(sparse_edge_index)\n",
        "    edges = structured_negative_sampling(edge_index, contains_neg_self_loops=False)\n",
        "    \n",
        "    user_indices, pos_indices, neg_indices = edges[0], edges[1], edges[2]\n",
        "    users_emb, users_emb_0 = users_emb[user_indices], users_emb_0[user_indices]\n",
        "    pos_emb, pos_emb_0 = items_emb[pos_indices], items_emb_0[pos_indices]\n",
        "    neg_emb, neg_emb_0 = items_emb[neg_indices], items_emb_0[neg_indices]\n",
        "\n",
        "    loss = bpr_loss(users_emb, users_emb_0, pos_emb, pos_emb_0,\n",
        "                    neg_emb, neg_emb_0, lambda_val).item()\n",
        "\n",
        "    users_emb_w = model.users_emb.weight\n",
        "    items_emb_w = model.items_emb.weight\n",
        "\n",
        "    # set ratings matrix between every user and item, mask out existing ones\n",
        "    rating = torch.matmul(users_emb_w, items_emb_w.T)\n",
        "\n",
        "    for index in mask_index:\n",
        "        user_pos_items = get_positive_items(index)\n",
        "        masked_users = []\n",
        "        masked_items = []\n",
        "        for user, items in user_pos_items.items():\n",
        "            masked_users.extend([user] * len(items))\n",
        "            masked_items.extend(items)\n",
        "\n",
        "        rating[masked_users, masked_items] = float(\"-inf\")\n",
        "\n",
        "    _, top_K_items = torch.topk(rating, k=k)\n",
        "\n",
        "    # get all unique users and actual ratings for evaluation\n",
        "    users = edge_index[0].unique()\n",
        "    test_user_pos_items = get_positive_items(edge_index)\n",
        "\n",
        "    actual_r = [test_user_pos_items[user.item()] for user in users]\n",
        "    pred_r = []\n",
        "\n",
        "    for user in users:\n",
        "        items = test_user_pos_items[user.item()]\n",
        "        label = list(map(lambda x: x in items, top_K_items[user]))\n",
        "        pred_r.append(label)\n",
        "    \n",
        "    pred_r = torch.Tensor(np.array(pred_r).astype('float'))\n",
        "    \n",
        "\n",
        "    correct_count = torch.sum(pred_r, dim=-1)\n",
        "    # number of items liked by each user in the test set\n",
        "    liked_count = torch.Tensor([len(actual_r[i]) for i in range(len(actual_r))])\n",
        "    \n",
        "    recall = torch.mean(correct_count / liked_count)\n",
        "    precision = torch.mean(correct_count) / k\n",
        "\n",
        "\n",
        "    return loss, recall, precision"
      ],
      "metadata": {
        "id": "DIUu82bph3q1"
      },
      "execution_count": 14,
      "outputs": []
    },
    {
      "cell_type": "code",
      "metadata": {
        "id": "nHO2gdhRSwzJ"
      },
      "source": [
        "# helper method to get positive items for train/test sets\n",
        "def get_positive_items(edge_index):\n",
        "    \"\"\"\n",
        "    Return positive items for all users in form of list\n",
        "    Parameters:\n",
        "      edge_index (torch.Tensor): The edge index representing the user-item interactions.\n",
        "    Returns:\n",
        "      pos_items (torch.Tensor): A list containing the positive items for all users.\n",
        "    \"\"\"\n",
        "    pos_items = {}\n",
        "    for i in range(edge_index.shape[1]):\n",
        "        user = edge_index[0][i].item()\n",
        "        item = edge_index[1][i].item()\n",
        "        if user not in pos_items:\n",
        "            pos_items[user] = []\n",
        "        pos_items[user].append(item)\n",
        "    return pos_items"
      ],
      "execution_count": 15,
      "outputs": []
    },
    {
      "cell_type": "code",
      "metadata": {
        "id": "8We4BTtfS4NV"
      },
      "source": [
        "def recallAtK(actual_r, pred_r, k):\n",
        "    \"\"\"\n",
        "    Return recall at k and precision at k\n",
        "    \"\"\"\n",
        "    correct_count = torch.sum(pred_r, dim=-1)\n",
        "    # number of items liked by each user in the test set\n",
        "    liked_count = torch.Tensor([len(actual_r[i]) for i in range(len(actual_r))])\n",
        "    \n",
        "    recall = torch.mean(correct_count / liked_count)\n",
        "    precision = torch.mean(correct_count) / k\n",
        "    \n",
        "    return recall.item(), precision.item()\n"
      ],
      "execution_count": 16,
      "outputs": []
    },
    {
      "cell_type": "markdown",
      "metadata": {
        "id": "NYw1cUgPTjws"
      },
      "source": [
        "## 5.Training Process\n",
        "\n",
        "Your test set performance should be in line with the following (*K=20*) with the default model config:\n",
        "\n",
        "Loss: 0.13, Recall@K: 0.14, and Precision@K: 0.045"
      ]
    },
    {
      "cell_type": "code",
      "metadata": {
        "id": "MQL2W-NQTeFd"
      },
      "source": [
        "# model configurations\n",
        "config = {\n",
        "    'batch_size': 256,\n",
        "    'num_epoch': 50,\n",
        "    'epoch_size': 200,\n",
        "    'lr': 1e-3,\n",
        "    'lr_decay': 0.9,\n",
        "    'topK': 20,\n",
        "    'lambda': 1e-6,\n",
        "    'hidden_dim': 32,\n",
        "    'num_layer': 3,\n",
        "}"
      ],
      "execution_count": 17,
      "outputs": []
    },
    {
      "cell_type": "code",
      "metadata": {
        "id": "49JDkBtKTfE-"
      },
      "source": [
        "# setup\n",
        "device = torch.device('cuda' if torch.cuda.is_available() else 'cpu')\n",
        "\n",
        "model = LightGCN(num_users, num_movies, config['hidden_dim'], config['num_layer'])\n",
        "model = model.to(device)\n",
        "model.train()\n",
        "\n",
        "optimizer = optim.Adam(model.parameters(), lr=config['lr'])\n",
        "scheduler = optim.lr_scheduler.ExponentialLR(optimizer, gamma=config['lr_decay'])\n",
        "\n",
        "edge_index = edge_index.to(device)\n",
        "train_edge_index = train_edge_index.to(device)\n",
        "train_sparse_edge_index = train_sparse_edge_index.to(device)\n",
        "\n",
        "val_edge_index = val_edge_index.to(device)\n",
        "val_sparse_edge_index = val_sparse_edge_index.to(device)"
      ],
      "execution_count": 18,
      "outputs": []
    },
    {
      "cell_type": "code",
      "metadata": {
        "colab": {
          "base_uri": "https://localhost:8080/"
        },
        "id": "wYjrDp1w-hiP",
        "outputId": "41d9892e-2db4-49d8-9cf0-9f36528ecb0f"
      },
      "source": [
        "# training loop\n",
        "train_losses = []\n",
        "val_losses = []\n",
        "\n",
        "for epoch in range(config['num_epoch']):\n",
        "  for iter in range(config['epoch_size']):\n",
        "    # forward propagation\n",
        "    users_emb, users_emb_0, items_emb, items_emb_0 = \\\n",
        "        model.forward(train_sparse_edge_index)\n",
        "\n",
        "    # mini batching\n",
        "    user_indices, pos_indices, neg_indices = \\\n",
        "        mini_batch_sample(config['batch_size'], train_edge_index)\n",
        "    \n",
        "    user_indices = user_indices.to(device)\n",
        "    pos_indices = pos_indices.to(device)\n",
        "    neg_indices = neg_indices.to(device)\n",
        "    \n",
        "    users_emb, users_emb_0 = users_emb[user_indices], users_emb_0[user_indices]\n",
        "    pos_emb, pos_emb_0 = items_emb[pos_indices], items_emb_0[pos_indices]\n",
        "    neg_emb, neg_emb_0 = items_emb[neg_indices], items_emb_0[neg_indices]\n",
        "\n",
        "    # loss computation\n",
        "    loss = bpr_loss(users_emb, users_emb_0, \n",
        "                    pos_emb, pos_emb_0,\n",
        "                    neg_emb, neg_emb_0,\n",
        "                    config['lambda'])\n",
        "\n",
        "    optimizer.zero_grad()\n",
        "    loss.backward()\n",
        "    optimizer.step()\n",
        "\n",
        "  model.eval()\n",
        "  val_loss, recall, precision = evaluation(model, val_edge_index, \n",
        "                                           val_sparse_edge_index, \n",
        "                                           [train_edge_index], \n",
        "                                           config['topK'],\n",
        "                                           config['lambda'])\n",
        "  \n",
        "  \n",
        "  print('Epoch {:d}: train_loss: {:.4f}, val_loss: {:.4f}, recall: {:.4f}, precision: {:.4f}'\\\n",
        "        .format(epoch, loss, val_loss, recall, precision))\n",
        "  train_losses.append(loss.item())\n",
        "  val_losses.append(val_loss)\n",
        "  scheduler.step()"
      ],
      "execution_count": 19,
      "outputs": [
        {
          "output_type": "stream",
          "name": "stdout",
          "text": [
            "Epoch 0: train_loss: 0.4732, val_loss: 0.5771, recall: 0.0164, precision: 0.0059\n",
            "Epoch 1: train_loss: 0.3226, val_loss: 0.4612, recall: 0.0449, precision: 0.0131\n",
            "Epoch 2: train_loss: 0.2874, val_loss: 0.4272, recall: 0.0674, precision: 0.0188\n",
            "Epoch 3: train_loss: 0.2165, val_loss: 0.4043, recall: 0.0760, precision: 0.0218\n",
            "Epoch 4: train_loss: 0.2153, val_loss: 0.3872, recall: 0.0769, precision: 0.0227\n",
            "Epoch 5: train_loss: 0.2779, val_loss: 0.3761, recall: 0.0881, precision: 0.0243\n",
            "Epoch 6: train_loss: 0.2440, val_loss: 0.3690, recall: 0.0923, precision: 0.0262\n",
            "Epoch 7: train_loss: 0.2239, val_loss: 0.3624, recall: 0.0951, precision: 0.0271\n",
            "Epoch 8: train_loss: 0.2382, val_loss: 0.3572, recall: 0.0916, precision: 0.0268\n",
            "Epoch 9: train_loss: 0.2098, val_loss: 0.3594, recall: 0.0981, precision: 0.0283\n",
            "Epoch 10: train_loss: 0.1769, val_loss: 0.3501, recall: 0.0989, precision: 0.0281\n",
            "Epoch 11: train_loss: 0.2161, val_loss: 0.3488, recall: 0.0991, precision: 0.0281\n",
            "Epoch 12: train_loss: 0.2003, val_loss: 0.3488, recall: 0.1016, precision: 0.0283\n",
            "Epoch 13: train_loss: 0.1945, val_loss: 0.3436, recall: 0.1006, precision: 0.0289\n",
            "Epoch 14: train_loss: 0.1878, val_loss: 0.3424, recall: 0.1041, precision: 0.0294\n",
            "Epoch 15: train_loss: 0.2478, val_loss: 0.3410, recall: 0.1023, precision: 0.0290\n",
            "Epoch 16: train_loss: 0.2040, val_loss: 0.3386, recall: 0.1013, precision: 0.0292\n",
            "Epoch 17: train_loss: 0.1816, val_loss: 0.3345, recall: 0.1019, precision: 0.0292\n",
            "Epoch 18: train_loss: 0.1986, val_loss: 0.3364, recall: 0.1038, precision: 0.0295\n",
            "Epoch 19: train_loss: 0.1714, val_loss: 0.3251, recall: 0.1020, precision: 0.0292\n",
            "Epoch 20: train_loss: 0.1579, val_loss: 0.3408, recall: 0.1033, precision: 0.0290\n",
            "Epoch 21: train_loss: 0.1592, val_loss: 0.3360, recall: 0.1065, precision: 0.0297\n",
            "Epoch 22: train_loss: 0.1569, val_loss: 0.3301, recall: 0.1056, precision: 0.0296\n",
            "Epoch 23: train_loss: 0.1909, val_loss: 0.3243, recall: 0.1051, precision: 0.0296\n",
            "Epoch 24: train_loss: 0.1979, val_loss: 0.3299, recall: 0.1070, precision: 0.0302\n",
            "Epoch 25: train_loss: 0.1956, val_loss: 0.3278, recall: 0.1077, precision: 0.0304\n",
            "Epoch 26: train_loss: 0.1871, val_loss: 0.3378, recall: 0.1067, precision: 0.0299\n",
            "Epoch 27: train_loss: 0.1816, val_loss: 0.3327, recall: 0.1074, precision: 0.0303\n",
            "Epoch 28: train_loss: 0.1905, val_loss: 0.3256, recall: 0.1075, precision: 0.0304\n",
            "Epoch 29: train_loss: 0.1542, val_loss: 0.3314, recall: 0.1084, precision: 0.0305\n",
            "Epoch 30: train_loss: 0.1553, val_loss: 0.3285, recall: 0.1083, precision: 0.0305\n",
            "Epoch 31: train_loss: 0.1841, val_loss: 0.3299, recall: 0.1082, precision: 0.0305\n",
            "Epoch 32: train_loss: 0.2019, val_loss: 0.3248, recall: 0.1097, precision: 0.0306\n",
            "Epoch 33: train_loss: 0.1759, val_loss: 0.3314, recall: 0.1086, precision: 0.0308\n",
            "Epoch 34: train_loss: 0.1557, val_loss: 0.3229, recall: 0.1100, precision: 0.0306\n",
            "Epoch 35: train_loss: 0.1674, val_loss: 0.3277, recall: 0.1102, precision: 0.0307\n",
            "Epoch 36: train_loss: 0.2100, val_loss: 0.3229, recall: 0.1089, precision: 0.0309\n",
            "Epoch 37: train_loss: 0.1969, val_loss: 0.3185, recall: 0.1103, precision: 0.0308\n",
            "Epoch 38: train_loss: 0.1780, val_loss: 0.3192, recall: 0.1105, precision: 0.0309\n",
            "Epoch 39: train_loss: 0.1697, val_loss: 0.3323, recall: 0.1105, precision: 0.0309\n",
            "Epoch 40: train_loss: 0.1770, val_loss: 0.3264, recall: 0.1102, precision: 0.0307\n",
            "Epoch 41: train_loss: 0.1780, val_loss: 0.3323, recall: 0.1085, precision: 0.0307\n",
            "Epoch 42: train_loss: 0.1565, val_loss: 0.3299, recall: 0.1103, precision: 0.0308\n",
            "Epoch 43: train_loss: 0.1595, val_loss: 0.3281, recall: 0.1108, precision: 0.0311\n",
            "Epoch 44: train_loss: 0.1748, val_loss: 0.3299, recall: 0.1108, precision: 0.0311\n",
            "Epoch 45: train_loss: 0.1227, val_loss: 0.3223, recall: 0.1106, precision: 0.0310\n",
            "Epoch 46: train_loss: 0.1983, val_loss: 0.3247, recall: 0.1104, precision: 0.0310\n",
            "Epoch 47: train_loss: 0.1680, val_loss: 0.3186, recall: 0.1106, precision: 0.0311\n",
            "Epoch 48: train_loss: 0.1658, val_loss: 0.3237, recall: 0.1107, precision: 0.0312\n",
            "Epoch 49: train_loss: 0.1934, val_loss: 0.3281, recall: 0.1103, precision: 0.0311\n"
          ]
        }
      ]
    },
    {
      "cell_type": "markdown",
      "source": [
        "### Visualize the Results"
      ],
      "metadata": {
        "id": "8sAViHQux6kg"
      }
    },
    {
      "cell_type": "code",
      "metadata": {
        "colab": {
          "base_uri": "https://localhost:8080/",
          "height": 438
        },
        "id": "nLcdvV5iXBSv",
        "outputId": "e7ede90b-d1a5-4368-d981-f1962922596a"
      },
      "source": [
        "epochs = range(config['num_epoch'])\n",
        "fig = plt.figure(figsize=(8, 5))\n",
        "ax = fig.add_axes([0, 0, 1, 1])\n",
        "ax.plot(epochs, train_losses, color='r', label='Train', alpha=1)\n",
        "ax.plot(epochs, val_losses, color='b', label='Validation', alpha=1)\n",
        "ax.grid(color='g', ls='-.', lw=0.5)\n",
        "ax.set_xlabel('Epochs')\n",
        "ax.set_ylabel('Losses')\n",
        "plt.title('Training and Validation Losses')\n",
        "plt.legend()\n",
        "plt.show()"
      ],
      "execution_count": 20,
      "outputs": [
        {
          "output_type": "display_data",
          "data": {
            "text/plain": [
              "<Figure size 576x360 with 1 Axes>"
            ],
            "image/png": "[encoded data removed]"
          },
          "metadata": {
            "needs_background": "light"
          }
        }
      ]
    },
    {
      "cell_type": "markdown",
      "source": [
        "### Evaluate on the test set\n",
        "Now we can evaluate on the test set to see how our model perform:"
      ],
      "metadata": {
        "id": "0p45TlRNsFFi"
      }
    },
    {
      "cell_type": "code",
      "metadata": {
        "id": "G6UjCTMQ_N5e",
        "colab": {
          "base_uri": "https://localhost:8080/"
        },
        "outputId": "e1c1b9dc-885b-4e37-e495-5b95b2fba0e1"
      },
      "source": [
        "# evaluate on test set\n",
        "model.eval()\n",
        "test_sparse_edge_index = test_sparse_edge_index.to(device)\n",
        "test_edge_index = test_edge_index.to(device)\n",
        "test_loss, test_recall, test_precision \\\n",
        "    = evaluation(model, \n",
        "                test_edge_index, \n",
        "                test_sparse_edge_index, \n",
        "                [train_edge_index, val_edge_index],\n",
        "                config['topK'],\n",
        "                config['lambda'])\n",
        "    \n",
        "\n",
        "print('Test set: train_loss: {:.4f}, recall: {:.4f}, precision: {:.4f}'\\\n",
        "        .format(test_loss, test_recall, test_precision))\n"
      ],
      "execution_count": 21,
      "outputs": [
        {
          "output_type": "stream",
          "name": "stdout",
          "text": [
            "Test set: train_loss: 0.3142, recall: 0.1344, precision: 0.0348\n"
          ]
        }
      ]
    },
    {
      "cell_type": "markdown",
      "metadata": {
        "id": "At4zWPfaVW6q"
      },
      "source": [
        "# Make New Recommendatios for a Given User"
      ]
    },
    {
      "cell_type": "code",
      "source": [
        "def predict(user_id, topK):\n",
        "    '''\n",
        "    Make top K recommendations to the user\n",
        "    '''\n",
        "    # read movie and uesr info\n",
        "    model.eval()\n",
        "    df = pd.read_csv(movie_path)\n",
        "    movie_titles = pd.Series(df.title.values, index=df.movieId).to_dict()\n",
        "    movie_genres = pd.Series(df.genres.values, index=df.movieId).to_dict()\n",
        "    pos_items = get_positive_items(edge_index)\n",
        "    user = user_mapping[user_id]\n",
        "    user_emb = model.users_emb.weight[user]\n",
        "    scores = model.items_emb.weight @ user_emb\n",
        "\n",
        "    values, indices = torch.topk(scores, k=len(pos_items[user]) + topK)\n",
        "\n",
        "    movies = [index.cpu().item() for index in indices if index in pos_items[user]]\n",
        "    topk_movies = movies[:topK] \n",
        "    movie_ids = [list(movie_mapping.keys())[list(movie_mapping.values())\\\n",
        "                                            .index(movie)] for movie in movies]\n",
        "    titles = [movie_titles[id] for id in movie_ids]\n",
        "    genres = [movie_genres[id] for id in movie_ids]\n",
        "\n",
        "    print(\"User {:d} likes these movies:\".format(user_id))\n",
        "    for i in range(topK):\n",
        "        print(\"title: {:s}, genres: {:s} \".format(titles[i], genres[i]))\n",
        "\n",
        "    print('====================================================================')\n",
        "\n",
        "    movies = [index.cpu().item() for index in indices if index not in pos_items[user]]\n",
        "    topk_movies = movies[:topK] \n",
        "    movie_ids = [list(movie_mapping.keys())[list(movie_mapping.values())\\\n",
        "    .index(movie)] for movie in movies]\n",
        "    titles = [movie_titles[id] for id in movie_ids]\n",
        "    genres = [movie_genres[id] for id in movie_ids]\n",
        "\n",
        "    print(\"Here are the movies that we think the user will enjoy:\")\n",
        "    for i in range(topK):\n",
        "        print(\"title: {:s}, genres: {:s} \".format(titles[i], genres[i]))\n"
      ],
      "metadata": {
        "id": "oWR-LQUDaqgL"
      },
      "execution_count": 24,
      "outputs": []
    },
    {
      "cell_type": "markdown",
      "source": [
        "### Try it out!\n",
        "Now you can explore with different user ID (1 to 943) and the number of movies to recommend"
      ],
      "metadata": {
        "id": "0CygVPMklajo"
      }
    },
    {
      "cell_type": "code",
      "metadata": {
        "id": "DSFgwnaecWBw",
        "colab": {
          "base_uri": "https://localhost:8080/"
        },
        "outputId": "62d98ce4-7325-4d1f-f12a-894a6f23a4a5"
      },
      "source": [
        "predict(123, 10)"
      ],
      "execution_count": 25,
      "outputs": [
        {
          "output_type": "stream",
          "name": "stdout",
          "text": [
            "User 123 likes these movies:\n",
            "title: Fight Club (1999), genres: Action|Crime|Drama|Thriller \n",
            "title: Silence of the Lambs, The (1991), genres: Crime|Horror|Thriller \n",
            "title: Inception (2010), genres: Action|Crime|Drama|Mystery|Sci-Fi|Thriller|IMAX \n",
            "title: Matrix, The (1999), genres: Action|Sci-Fi|Thriller \n",
            "title: Shawshank Redemption, The (1994), genres: Crime|Drama \n",
            "title: Prestige, The (2006), genres: Drama|Mystery|Sci-Fi|Thriller \n",
            "title: Avengers, The (2012), genres: Action|Adventure|Sci-Fi|IMAX \n",
            "title: Pulp Fiction (1994), genres: Comedy|Crime|Drama|Thriller \n",
            "title: Guardians of the Galaxy (2014), genres: Action|Adventure|Sci-Fi \n",
            "title: Seven (a.k.a. Se7en) (1995), genres: Mystery|Thriller \n",
            "====================================================================\n",
            "Here are the movies that we think the user will enjoy:\n",
            "title: Hush (1998), genres: Thriller \n",
            "title: Forrest Gump (1994), genres: Comedy|Drama|Romance|War \n",
            "title: Rosemary's Baby (1968), genres: Drama|Horror|Thriller \n",
            "title: Amen. (2002), genres: Drama \n",
            "title: Donnie Brasco (1997), genres: Crime|Drama \n",
            "title: There Will Be Blood (2007), genres: Drama|Western \n",
            "title: Dark Knight, The (2008), genres: Action|Crime|Drama|IMAX \n",
            "title: Lord of the Rings: The Two Towers, The (2002), genres: Adventure|Fantasy \n",
            "title: Ocean's Eleven (2001), genres: Crime|Thriller \n",
            "title: Truman Show, The (1998), genres: Comedy|Drama|Sci-Fi \n"
          ]
        }
      ]
    },
    {
      "cell_type": "code",
      "source": [],
      "metadata": {
        "id": "B9rpyRBqvLmC"
      },
      "execution_count": null,
      "outputs": []
    }
  ]
}