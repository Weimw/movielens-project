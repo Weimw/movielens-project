{
  "nbformat": 4,
  "nbformat_minor": 0,
  "metadata": {
    "colab": {
      "provenance": [],
      "include_colab_link": true
    },
    "kernelspec": {
      "name": "python3",
      "display_name": "Python 3"
    },
    "language_info": {
      "name": "python"
    },
    "accelerator": "GPU",
    "gpuClass": "standard"
  },
  "cells": [
    {
      "cell_type": "markdown",
      "metadata": {
        "id": "view-in-github",
        "colab_type": "text"
      },
      "source": [
        "<a href=\"https://colab.research.google.com/github/Weimw/movielens-project/blob/main/cs224w_project.ipynb\" target=\"_parent\"><img src=\"https://colab.research.google.com/assets/colab-badge.svg\" alt=\"Open In Colab\"/></a>"
      ]
    },
    {
      "cell_type": "markdown",
      "source": [
        "## Installation"
      ],
      "metadata": {
        "id": "aSA-zlRMbCPC"
      }
    },
    {
      "cell_type": "code",
      "source": [
        "%%capture\n",
        "# Install torch geometric\n",
        "!pip install torch-scatter -f https://pytorch-geometric.com/whl/torch-1.13.1+cu116.html\n",
        "!pip install torch-sparse -f https://pytorch-geometric.com/whl/torch-1.13.1+cu116.html\n",
        "!pip install torch-geometric\n",
        "!pip install sentence-transformers\n",
        "! git clone https://github.com/Weimw/movielens-project.git"
      ],
      "metadata": {
        "id": "xvgsf6tSNj7c"
      },
      "execution_count": 74,
      "outputs": []
    },
    {
      "cell_type": "code",
      "source": [
        "# Standard library imports\n",
        "import random\n",
        "import time\n",
        "\n",
        "# Third-party imports\n",
        "import matplotlib.pyplot as plt\n",
        "import networkx as nx\n",
        "import numpy as np\n",
        "import pandas as pd\n",
        "pd.set_option('display.max_colwidth', None)\n",
        "\n",
        "import torch\n",
        "import torch.nn as nn\n",
        "import torch.nn.functional as F\n",
        "import torch.optim as optim\n",
        "# from torch.utils.data import Dataset, DataLoader\n",
        "import torch_geometric\n",
        "from torch_geometric.nn.conv import MessagePassing\n",
        "from torch_geometric.datasets import MovieLens\n",
        "import torch_geometric.transforms as T\n",
        "from torch_geometric.utils import degree\n",
        "\n",
        "from tqdm.notebook import tqdm\n",
        "from sklearn import preprocessing\n",
        "from sklearn.model_selection import train_test_split\n",
        "import scipy.sparse as sp"
      ],
      "metadata": {
        "id": "supnX-hxyeL-"
      },
      "execution_count": 75,
      "outputs": []
    },
    {
      "cell_type": "code",
      "source": [
        "%cd movielens-project"
      ],
      "metadata": {
        "id": "R8Ns0Z3AftkG",
        "outputId": "1b5147d8-9b92-4222-c3c4-e619215322d1",
        "colab": {
          "base_uri": "https://localhost:8080/"
        }
      },
      "execution_count": 3,
      "outputs": [
        {
          "output_type": "stream",
          "name": "stdout",
          "text": [
            "/content/movielens-project\n"
          ]
        }
      ]
    },
    {
      "cell_type": "markdown",
      "source": [
        "Double check that our environment is working as expected."
      ],
      "metadata": {
        "id": "JFXQCBh1Xot4"
      }
    },
    {
      "cell_type": "code",
      "source": [
        "torch_geometric.__version__"
      ],
      "metadata": {
        "id": "fd6oxO5vXqr5",
        "outputId": "56ae8787-bace-41b7-e2de-fdfec25c2375",
        "colab": {
          "base_uri": "https://localhost:8080/",
          "height": 35
        }
      },
      "execution_count": 4,
      "outputs": [
        {
          "output_type": "execute_result",
          "data": {
            "text/plain": [
              "'2.2.0'"
            ],
            "application/vnd.google.colaboratory.intrinsic+json": {
              "type": "string"
            }
          },
          "metadata": {},
          "execution_count": 4
        }
      ]
    },
    {
      "cell_type": "code",
      "source": [
        "device = torch.device(\"cuda:0\" if torch.cuda.is_available() else \"cpu\")\n",
        "device"
      ],
      "metadata": {
        "id": "waLcG69KX9v8",
        "outputId": "eb8879a2-2ccc-47e3-cc23-a188d5b7595a",
        "colab": {
          "base_uri": "https://localhost:8080/"
        }
      },
      "execution_count": 5,
      "outputs": [
        {
          "output_type": "execute_result",
          "data": {
            "text/plain": [
              "device(type='cuda', index=0)"
            ]
          },
          "metadata": {},
          "execution_count": 5
        }
      ]
    },
    {
      "cell_type": "markdown",
      "source": [
        "##1. MovieLens 100K without node features"
      ],
      "metadata": {
        "id": "iWYZif5UcHQU"
      }
    },
    {
      "cell_type": "markdown",
      "source": [
        "### PyG Datasets"
      ],
      "metadata": {
        "id": "R2ddbpWwtkYE"
      }
    },
    {
      "cell_type": "code",
      "source": [
        "root = './data'\n",
        "dataset = MovieLens(root)\n",
        "# There is only one graph\n",
        "G = dataset[0]"
      ],
      "metadata": {
        "id": "cyWwj0-btjbt"
      },
      "execution_count": 76,
      "outputs": []
    },
    {
      "cell_type": "code",
      "source": [
        "G"
      ],
      "metadata": {
        "colab": {
          "base_uri": "https://localhost:8080/"
        },
        "id": "vGIKnBtawVM2",
        "outputId": "7a3596b0-262a-4d12-9335-dcd37d55abcf"
      },
      "execution_count": 77,
      "outputs": [
        {
          "output_type": "execute_result",
          "data": {
            "text/plain": [
              "HeteroData(\n",
              "  \u001b[1mmovie\u001b[0m={ x=[9742, 404] },\n",
              "  \u001b[1muser\u001b[0m={ num_nodes=610 },\n",
              "  \u001b[1m(user, rates, movie)\u001b[0m={\n",
              "    edge_index=[2, 100836],\n",
              "    edge_label=[100836]\n",
              "  }\n",
              ")"
            ]
          },
          "metadata": {},
          "execution_count": 77
        }
      ]
    },
    {
      "cell_type": "code",
      "source": [
        "G.node_types"
      ],
      "metadata": {
        "colab": {
          "base_uri": "https://localhost:8080/"
        },
        "id": "0WRfw61AwpWU",
        "outputId": "66958eb4-6af7-4114-e995-f850d0c5bcf5"
      },
      "execution_count": 78,
      "outputs": [
        {
          "output_type": "execute_result",
          "data": {
            "text/plain": [
              "['movie', 'user']"
            ]
          },
          "metadata": {},
          "execution_count": 78
        }
      ]
    },
    {
      "cell_type": "code",
      "source": [
        "G.edge_types"
      ],
      "metadata": {
        "colab": {
          "base_uri": "https://localhost:8080/"
        },
        "id": "S99SD_5GyK8M",
        "outputId": "82ceafe6-2952-46ca-f296-bb3a434a2039"
      },
      "execution_count": 79,
      "outputs": [
        {
          "output_type": "execute_result",
          "data": {
            "text/plain": [
              "[('user', 'rates', 'movie')]"
            ]
          },
          "metadata": {},
          "execution_count": 79
        }
      ]
    },
    {
      "cell_type": "code",
      "source": [
        "G['user'].num_nodes"
      ],
      "metadata": {
        "colab": {
          "base_uri": "https://localhost:8080/"
        },
        "id": "6TJn8aqzyg_H",
        "outputId": "63084ad7-ead1-4069-ec85-358322335bbf"
      },
      "execution_count": 80,
      "outputs": [
        {
          "output_type": "execute_result",
          "data": {
            "text/plain": [
              "610"
            ]
          },
          "metadata": {},
          "execution_count": 80
        }
      ]
    },
    {
      "cell_type": "code",
      "source": [
        "G['user'].num_node_features"
      ],
      "metadata": {
        "colab": {
          "base_uri": "https://localhost:8080/"
        },
        "id": "_76jnilRypRe",
        "outputId": "314d1b4a-d07a-4252-a2d2-1e2e8e820004"
      },
      "execution_count": 81,
      "outputs": [
        {
          "output_type": "execute_result",
          "data": {
            "text/plain": [
              "0"
            ]
          },
          "metadata": {},
          "execution_count": 81
        }
      ]
    },
    {
      "cell_type": "code",
      "source": [
        "G['movie'].num_nodes"
      ],
      "metadata": {
        "colab": {
          "base_uri": "https://localhost:8080/"
        },
        "id": "Tp1l8_luy4LM",
        "outputId": "a0a52a06-7f81-4cea-8bae-a0b3cf52c33e"
      },
      "execution_count": 82,
      "outputs": [
        {
          "output_type": "execute_result",
          "data": {
            "text/plain": [
              "9742"
            ]
          },
          "metadata": {},
          "execution_count": 82
        }
      ]
    },
    {
      "cell_type": "code",
      "source": [
        "G['movie'].num_node_features"
      ],
      "metadata": {
        "colab": {
          "base_uri": "https://localhost:8080/"
        },
        "id": "tSHSwfq2y4ru",
        "outputId": "eafdfe68-b24d-4020-a994-5b96de8d77c1"
      },
      "execution_count": 83,
      "outputs": [
        {
          "output_type": "execute_result",
          "data": {
            "text/plain": [
              "404"
            ]
          },
          "metadata": {},
          "execution_count": 83
        }
      ]
    },
    {
      "cell_type": "code",
      "source": [
        "G[('user', 'rates', 'movie')].num_edges"
      ],
      "metadata": {
        "colab": {
          "base_uri": "https://localhost:8080/"
        },
        "id": "wbx7Mtl7y_ZZ",
        "outputId": "7729fba6-3fd5-4bd5-9258-246544fc44f9"
      },
      "execution_count": 84,
      "outputs": [
        {
          "output_type": "execute_result",
          "data": {
            "text/plain": [
              "100836"
            ]
          },
          "metadata": {},
          "execution_count": 84
        }
      ]
    },
    {
      "cell_type": "code",
      "source": [
        "G[('user', 'rates', 'movie')].edge_index"
      ],
      "metadata": {
        "colab": {
          "base_uri": "https://localhost:8080/"
        },
        "id": "rr2azYjcG4l5",
        "outputId": "25b60ec3-5c25-44af-9aec-5b0448e81920"
      },
      "execution_count": 85,
      "outputs": [
        {
          "output_type": "execute_result",
          "data": {
            "text/plain": [
              "tensor([[   0,    0,    0,  ...,  609,  609,  609],\n",
              "        [   0,    2,    5,  ..., 9462, 9463, 9503]])"
            ]
          },
          "metadata": {},
          "execution_count": 85
        }
      ]
    },
    {
      "cell_type": "markdown",
      "source": [
        "### Edge-level Training Splits"
      ],
      "metadata": {
        "id": "lapRF2bh0vKA"
      }
    },
    {
      "cell_type": "code",
      "source": [
        "# We also need to make sure to add the reverse edges from movies to users\n",
        "# in order to let a GNN be able to pass messages in both directions.\n",
        "# We can leverage the `T.ToUndirected()` transform for this from PyG:\n",
        "\n",
        "undirected = T.ToUndirected()\n",
        "G = undirected(G)"
      ],
      "metadata": {
        "id": "mBM1XpeTLIw0"
      },
      "execution_count": 86,
      "outputs": []
    },
    {
      "cell_type": "code",
      "source": [
        "G"
      ],
      "metadata": {
        "colab": {
          "base_uri": "https://localhost:8080/"
        },
        "id": "TywAbWVnLTBK",
        "outputId": "72eb440a-f8fd-4a34-c8d7-0aa878bf523e"
      },
      "execution_count": 87,
      "outputs": [
        {
          "output_type": "execute_result",
          "data": {
            "text/plain": [
              "HeteroData(\n",
              "  \u001b[1mmovie\u001b[0m={ x=[9742, 404] },\n",
              "  \u001b[1muser\u001b[0m={ num_nodes=610 },\n",
              "  \u001b[1m(user, rates, movie)\u001b[0m={\n",
              "    edge_index=[2, 100836],\n",
              "    edge_label=[100836]\n",
              "  },\n",
              "  \u001b[1m(movie, rev_rates, user)\u001b[0m={\n",
              "    edge_index=[2, 100836],\n",
              "    edge_label=[100836]\n",
              "  }\n",
              ")"
            ]
          },
          "metadata": {},
          "execution_count": 87
        }
      ]
    },
    {
      "cell_type": "code",
      "source": [
        "\n",
        "\n",
        "# For this, we first split the set of edges into\n",
        "# training (80%), validation (10%), and testing edges (10%).\n",
        "# Across the training edges, we use 70% of edges for message passing,\n",
        "# and 30% of edges for supervision.\n",
        "# We further want to generate fixed negative edges for evaluation with a ratio of 2:1.\n",
        "# Negative edges during training will be generated on-the-fly.\n",
        "transform = T.RandomLinkSplit(\n",
        "    num_val=0.1,\n",
        "    num_test=0.1, \n",
        "    disjoint_train_ratio=0.3,\n",
        "    neg_sampling_ratio=2.0,\n",
        "    edge_types=(\"user\", \"rates\", \"movie\")\n",
        ")\n",
        "\n",
        "train_data, val_data, test_data = transform(G)"
      ],
      "metadata": {
        "colab": {
          "base_uri": "https://localhost:8080/",
          "height": 371
        },
        "id": "E23XE-H23B81",
        "outputId": "84c2ba25-87b6-462f-df64-fbb2e5db5fdb"
      },
      "execution_count": 71,
      "outputs": [
        {
          "output_type": "error",
          "ename": "AssertionError",
          "evalue": "ignored",
          "traceback": [
            "\u001b[0;31m---------------------------------------------------------------------------\u001b[0m",
            "\u001b[0;31mAssertionError\u001b[0m                            Traceback (most recent call last)",
            "\u001b[0;32m<ipython-input-71-630a73e3fa00>\u001b[0m in \u001b[0;36m<module>\u001b[0;34m\u001b[0m\n\u001b[1;32m     20\u001b[0m )\n\u001b[1;32m     21\u001b[0m \u001b[0;34m\u001b[0m\u001b[0m\n\u001b[0;32m---> 22\u001b[0;31m \u001b[0mtrain_data\u001b[0m\u001b[0;34m,\u001b[0m \u001b[0mval_data\u001b[0m\u001b[0;34m,\u001b[0m \u001b[0mtest_data\u001b[0m \u001b[0;34m=\u001b[0m \u001b[0mtransform\u001b[0m\u001b[0;34m(\u001b[0m\u001b[0mG\u001b[0m\u001b[0;34m)\u001b[0m\u001b[0;34m\u001b[0m\u001b[0;34m\u001b[0m\u001b[0m\n\u001b[0m",
            "\u001b[0;32m/usr/local/lib/python3.9/dist-packages/torch_geometric/transforms/random_link_split.py\u001b[0m in \u001b[0;36m__call__\u001b[0;34m(self, data)\u001b[0m\n\u001b[1;32m    229\u001b[0m             \u001b[0;32mif\u001b[0m \u001b[0mnum_disjoint\u001b[0m \u001b[0;34m>\u001b[0m \u001b[0;36m0\u001b[0m\u001b[0;34m:\u001b[0m\u001b[0;34m\u001b[0m\u001b[0;34m\u001b[0m\u001b[0m\n\u001b[1;32m    230\u001b[0m                 \u001b[0mtrain_edges\u001b[0m \u001b[0;34m=\u001b[0m \u001b[0mtrain_edges\u001b[0m\u001b[0;34m[\u001b[0m\u001b[0;34m:\u001b[0m\u001b[0mnum_disjoint\u001b[0m\u001b[0;34m]\u001b[0m\u001b[0;34m\u001b[0m\u001b[0;34m\u001b[0m\u001b[0m\n\u001b[0;32m--> 231\u001b[0;31m             self._create_label(\n\u001b[0m\u001b[1;32m    232\u001b[0m                 \u001b[0mstore\u001b[0m\u001b[0;34m,\u001b[0m\u001b[0;34m\u001b[0m\u001b[0;34m\u001b[0m\u001b[0m\n\u001b[1;32m    233\u001b[0m                 \u001b[0mtrain_edges\u001b[0m\u001b[0;34m,\u001b[0m\u001b[0;34m\u001b[0m\u001b[0;34m\u001b[0m\u001b[0m\n",
            "\u001b[0;32m/usr/local/lib/python3.9/dist-packages/torch_geometric/transforms/random_link_split.py\u001b[0m in \u001b[0;36m_create_label\u001b[0;34m(self, store, index, neg_edge_index, out)\u001b[0m\n\u001b[1;32m    302\u001b[0m             \u001b[0;32mif\u001b[0m \u001b[0mneg_edge_index\u001b[0m\u001b[0;34m.\u001b[0m\u001b[0mnumel\u001b[0m\u001b[0;34m(\u001b[0m\u001b[0;34m)\u001b[0m \u001b[0;34m>\u001b[0m \u001b[0;36m0\u001b[0m\u001b[0;34m:\u001b[0m\u001b[0;34m\u001b[0m\u001b[0;34m\u001b[0m\u001b[0m\n\u001b[1;32m    303\u001b[0m                 \u001b[0;32massert\u001b[0m \u001b[0medge_label\u001b[0m\u001b[0;34m.\u001b[0m\u001b[0mdtype\u001b[0m \u001b[0;34m==\u001b[0m \u001b[0mtorch\u001b[0m\u001b[0;34m.\u001b[0m\u001b[0mlong\u001b[0m\u001b[0;34m\u001b[0m\u001b[0;34m\u001b[0m\u001b[0m\n\u001b[0;32m--> 304\u001b[0;31m                 \u001b[0;32massert\u001b[0m \u001b[0medge_label\u001b[0m\u001b[0;34m.\u001b[0m\u001b[0msize\u001b[0m\u001b[0;34m(\u001b[0m\u001b[0;36m0\u001b[0m\u001b[0;34m)\u001b[0m \u001b[0;34m==\u001b[0m \u001b[0mstore\u001b[0m\u001b[0;34m.\u001b[0m\u001b[0medge_index\u001b[0m\u001b[0;34m.\u001b[0m\u001b[0msize\u001b[0m\u001b[0;34m(\u001b[0m\u001b[0;36m1\u001b[0m\u001b[0;34m)\u001b[0m\u001b[0;34m\u001b[0m\u001b[0;34m\u001b[0m\u001b[0m\n\u001b[0m\u001b[1;32m    305\u001b[0m                 \u001b[0medge_label\u001b[0m\u001b[0;34m.\u001b[0m\u001b[0madd_\u001b[0m\u001b[0;34m(\u001b[0m\u001b[0;36m1\u001b[0m\u001b[0;34m)\u001b[0m\u001b[0;34m\u001b[0m\u001b[0;34m\u001b[0m\u001b[0m\n\u001b[1;32m    306\u001b[0m             \u001b[0;32mif\u001b[0m \u001b[0mhasattr\u001b[0m\u001b[0;34m(\u001b[0m\u001b[0mout\u001b[0m\u001b[0;34m,\u001b[0m \u001b[0mself\u001b[0m\u001b[0;34m.\u001b[0m\u001b[0mkey\u001b[0m\u001b[0;34m)\u001b[0m\u001b[0;34m:\u001b[0m\u001b[0;34m\u001b[0m\u001b[0;34m\u001b[0m\u001b[0m\n",
            "\u001b[0;31mAssertionError\u001b[0m: "
          ]
        }
      ]
    },
    {
      "cell_type": "markdown",
      "source": [
        "### [Deprecated]Dataset Preprocessing"
      ],
      "metadata": {
        "id": "bJnGMox0cy87"
      }
    },
    {
      "cell_type": "code",
      "source": [
        "col_names = ['user_id','item_id','rating','timestamp']\n",
        "df = pd.read_csv(\"./data/ml_100k/u.data\",sep = \"\\t\", names = col_names)\n",
        "df.drop('timestamp', axis = 1, inplace = True)\n",
        "print('The whole dataset has {} entries'.format(len(df)))\n",
        "display(df.head(5))"
      ],
      "metadata": {
        "id": "Rafqf0R1ysaI",
        "outputId": "71673736-8f01-44ac-9ef0-ae9135cca6c2",
        "colab": {
          "base_uri": "https://localhost:8080/",
          "height": 224
        }
      },
      "execution_count": 6,
      "outputs": [
        {
          "output_type": "stream",
          "name": "stdout",
          "text": [
            "The whole dataset has 100000 entries\n"
          ]
        },
        {
          "output_type": "display_data",
          "data": {
            "text/plain": [
              "   user_id  item_id  rating\n",
              "0      196      242       3\n",
              "1      186      302       3\n",
              "2       22      377       1\n",
              "3      244       51       2\n",
              "4      166      346       1"
            ],
            "text/html": [
              "\n",
              "  <div id=\"df-6938e043-e2e2-41e4-a242-02073560b625\">\n",
              "    <div class=\"colab-df-container\">\n",
              "      <div>\n",
              "<style scoped>\n",
              "    .dataframe tbody tr th:only-of-type {\n",
              "        vertical-align: middle;\n",
              "    }\n",
              "\n",
              "    .dataframe tbody tr th {\n",
              "        vertical-align: top;\n",
              "    }\n",
              "\n",
              "    .dataframe thead th {\n",
              "        text-align: right;\n",
              "    }\n",
              "</style>\n",
              "<table border=\"1\" class=\"dataframe\">\n",
              "  <thead>\n",
              "    <tr style=\"text-align: right;\">\n",
              "      <th></th>\n",
              "      <th>user_id</th>\n",
              "      <th>item_id</th>\n",
              "      <th>rating</th>\n",
              "    </tr>\n",
              "  </thead>\n",
              "  <tbody>\n",
              "    <tr>\n",
              "      <th>0</th>\n",
              "      <td>196</td>\n",
              "      <td>242</td>\n",
              "      <td>3</td>\n",
              "    </tr>\n",
              "    <tr>\n",
              "      <th>1</th>\n",
              "      <td>186</td>\n",
              "      <td>302</td>\n",
              "      <td>3</td>\n",
              "    </tr>\n",
              "    <tr>\n",
              "      <th>2</th>\n",
              "      <td>22</td>\n",
              "      <td>377</td>\n",
              "      <td>1</td>\n",
              "    </tr>\n",
              "    <tr>\n",
              "      <th>3</th>\n",
              "      <td>244</td>\n",
              "      <td>51</td>\n",
              "      <td>2</td>\n",
              "    </tr>\n",
              "    <tr>\n",
              "      <th>4</th>\n",
              "      <td>166</td>\n",
              "      <td>346</td>\n",
              "      <td>1</td>\n",
              "    </tr>\n",
              "  </tbody>\n",
              "</table>\n",
              "</div>\n",
              "      <button class=\"colab-df-convert\" onclick=\"convertToInteractive('df-6938e043-e2e2-41e4-a242-02073560b625')\"\n",
              "              title=\"Convert this dataframe to an interactive table.\"\n",
              "              style=\"display:none;\">\n",
              "        \n",
              "  <svg xmlns=\"http://www.w3.org/2000/svg\" height=\"24px\"viewBox=\"0 0 24 24\"\n",
              "       width=\"24px\">\n",
              "    <path d=\"M0 0h24v24H0V0z\" fill=\"none\"/>\n",
              "    <path d=\"M18.56 5.44l.94 2.06.94-2.06 2.06-.94-2.06-.94-.94-2.06-.94 2.06-2.06.94zm-11 1L8.5 8.5l.94-2.06 2.06-.94-2.06-.94L8.5 2.5l-.94 2.06-2.06.94zm10 10l.94 2.06.94-2.06 2.06-.94-2.06-.94-.94-2.06-.94 2.06-2.06.94z\"/><path d=\"M17.41 7.96l-1.37-1.37c-.4-.4-.92-.59-1.43-.59-.52 0-1.04.2-1.43.59L10.3 9.45l-7.72 7.72c-.78.78-.78 2.05 0 2.83L4 21.41c.39.39.9.59 1.41.59.51 0 1.02-.2 1.41-.59l7.78-7.78 2.81-2.81c.8-.78.8-2.07 0-2.86zM5.41 20L4 18.59l7.72-7.72 1.47 1.35L5.41 20z\"/>\n",
              "  </svg>\n",
              "      </button>\n",
              "      \n",
              "  <style>\n",
              "    .colab-df-container {\n",
              "      display:flex;\n",
              "      flex-wrap:wrap;\n",
              "      gap: 12px;\n",
              "    }\n",
              "\n",
              "    .colab-df-convert {\n",
              "      background-color: #E8F0FE;\n",
              "      border: none;\n",
              "      border-radius: 50%;\n",
              "      cursor: pointer;\n",
              "      display: none;\n",
              "      fill: #1967D2;\n",
              "      height: 32px;\n",
              "      padding: 0 0 0 0;\n",
              "      width: 32px;\n",
              "    }\n",
              "\n",
              "    .colab-df-convert:hover {\n",
              "      background-color: #E2EBFA;\n",
              "      box-shadow: 0px 1px 2px rgba(60, 64, 67, 0.3), 0px 1px 3px 1px rgba(60, 64, 67, 0.15);\n",
              "      fill: #174EA6;\n",
              "    }\n",
              "\n",
              "    [theme=dark] .colab-df-convert {\n",
              "      background-color: #3B4455;\n",
              "      fill: #D2E3FC;\n",
              "    }\n",
              "\n",
              "    [theme=dark] .colab-df-convert:hover {\n",
              "      background-color: #434B5C;\n",
              "      box-shadow: 0px 1px 3px 1px rgba(0, 0, 0, 0.15);\n",
              "      filter: drop-shadow(0px 1px 2px rgba(0, 0, 0, 0.3));\n",
              "      fill: #FFFFFF;\n",
              "    }\n",
              "  </style>\n",
              "\n",
              "      <script>\n",
              "        const buttonEl =\n",
              "          document.querySelector('#df-6938e043-e2e2-41e4-a242-02073560b625 button.colab-df-convert');\n",
              "        buttonEl.style.display =\n",
              "          google.colab.kernel.accessAllowed ? 'block' : 'none';\n",
              "\n",
              "        async function convertToInteractive(key) {\n",
              "          const element = document.querySelector('#df-6938e043-e2e2-41e4-a242-02073560b625');\n",
              "          const dataTable =\n",
              "            await google.colab.kernel.invokeFunction('convertToInteractive',\n",
              "                                                     [key], {});\n",
              "          if (!dataTable) return;\n",
              "\n",
              "          const docLinkHtml = 'Like what you see? Visit the ' +\n",
              "            '<a target=\"_blank\" href=https://colab.research.google.com/notebooks/data_table.ipynb>data table notebook</a>'\n",
              "            + ' to learn more about interactive tables.';\n",
              "          element.innerHTML = '';\n",
              "          dataTable['output_type'] = 'display_data';\n",
              "          await google.colab.output.renderOutput(dataTable, element);\n",
              "          const docLink = document.createElement('div');\n",
              "          docLink.innerHTML = docLinkHtml;\n",
              "          element.appendChild(docLink);\n",
              "        }\n",
              "      </script>\n",
              "    </div>\n",
              "  </div>\n",
              "  "
            ]
          },
          "metadata": {}
        }
      ]
    },
    {
      "cell_type": "code",
      "source": [
        "# plot the distribution of ratings\n",
        "fig, ax = plt.subplots()\n",
        "ax.hist(df['rating'], bins = np.arange(0,6) + 0.5)\n",
        "ax.set_xlabel('Rating')\n",
        "plt.show()"
      ],
      "metadata": {
        "id": "KbqWVnlairjK",
        "outputId": "4d56fc73-e026-4d67-a100-066c9fe6a699",
        "colab": {
          "base_uri": "https://localhost:8080/",
          "height": 279
        }
      },
      "execution_count": 7,
      "outputs": [
        {
          "output_type": "display_data",
          "data": {
            "text/plain": [
              "<Figure size 432x288 with 1 Axes>"
            ],
            "image/png": "[encoded data removed]"
          },
          "metadata": {
            "needs_background": "light"
          }
        }
      ]
    },
    {
      "cell_type": "code",
      "source": [
        "# Perform a train-test split based on interaction level\n",
        "train, test = train_test_split(df.values, test_size = 0.2, random_state = 16)\n",
        "train_df = pd.DataFrame(train, columns = df.columns)\n",
        "test_df = pd.DataFrame(test, columns = df.columns)"
      ],
      "metadata": {
        "id": "2ECoNB7K1GDX"
      },
      "execution_count": 8,
      "outputs": []
    },
    {
      "cell_type": "code",
      "source": [
        "print(\"Size of training set: \", len(train_df))\n",
        "print(\"Size of test set: \", len(test_df))"
      ],
      "metadata": {
        "id": "Hd1MdYm03BxQ",
        "outputId": "a9b8d287-7f82-4429-8359-981bc0d2624a",
        "colab": {
          "base_uri": "https://localhost:8080/"
        }
      },
      "execution_count": 9,
      "outputs": [
        {
          "output_type": "stream",
          "name": "stdout",
          "text": [
            "Size of training set:  80000\n",
            "Size of test set:  20000\n"
          ]
        }
      ]
    },
    {
      "cell_type": "markdown",
      "source": [
        "Since the split is based on rating level, not all users and items are presenting in the training set. Thus, we will filter the test set to only include user, item appeared in the training set."
      ],
      "metadata": {
        "id": "-dX0t1ul3RiG"
      }
    },
    {
      "cell_type": "code",
      "source": [
        "# Encode target labels with value between 0 and n_classes-1.\n",
        "en_user = preprocessing.LabelEncoder()\n",
        "en_item = preprocessing.LabelEncoder()\n",
        "train_df['user_id_idx'] = en_user.fit_transform(train_df['user_id'].values)\n",
        "train_df['item_id_idx'] = en_item.fit_transform(train_df['item_id'].values)\n",
        "\n",
        "train_user_ids = train_df['user_id'].unique()\n",
        "train_item_ids = train_df['item_id'].unique()\n",
        "\n",
        "# filter test df\n",
        "has_user = test_df['user_id'].isin(train_user_ids)\n",
        "has_item = test_df['item_id'].isin(train_item_ids)\n",
        "test_df = test_df[has_user & has_item]\n",
        "print(len(test_df))"
      ],
      "metadata": {
        "id": "0vvqJwbE3P9n",
        "outputId": "36f2321b-3472-43d2-9842-b72699c8cb30",
        "colab": {
          "base_uri": "https://localhost:8080/"
        }
      },
      "execution_count": 10,
      "outputs": [
        {
          "output_type": "stream",
          "name": "stdout",
          "text": [
            "19958\n"
          ]
        }
      ]
    },
    {
      "cell_type": "code",
      "source": [
        "test_df['user_id_idx'] = en_user.transform(test_df['user_id'].values)\n",
        "test_df['item_id_idx'] = en_item.transform(test_df['item_id'].values)"
      ],
      "metadata": {
        "id": "dnjrZSPe5Ifz",
        "colab": {
          "base_uri": "https://localhost:8080/"
        },
        "outputId": "ab0caf0f-37b1-45f7-bd87-fb253df84a53"
      },
      "execution_count": 11,
      "outputs": [
        {
          "output_type": "stream",
          "name": "stderr",
          "text": [
            "<ipython-input-11-c75999d33f97>:1: SettingWithCopyWarning: \n",
            "A value is trying to be set on a copy of a slice from a DataFrame.\n",
            "Try using .loc[row_indexer,col_indexer] = value instead\n",
            "\n",
            "See the caveats in the documentation: https://pandas.pydata.org/pandas-docs/stable/user_guide/indexing.html#returning-a-view-versus-a-copy\n",
            "  test_df['user_id_idx'] = en_user.transform(test_df['user_id'].values)\n",
            "<ipython-input-11-c75999d33f97>:2: SettingWithCopyWarning: \n",
            "A value is trying to be set on a copy of a slice from a DataFrame.\n",
            "Try using .loc[row_indexer,col_indexer] = value instead\n",
            "\n",
            "See the caveats in the documentation: https://pandas.pydata.org/pandas-docs/stable/user_guide/indexing.html#returning-a-view-versus-a-copy\n",
            "  test_df['item_id_idx'] = en_item.transform(test_df['item_id'].values)\n"
          ]
        }
      ]
    },
    {
      "cell_type": "code",
      "source": [
        "# Get number of unique users and items\n",
        "n_users = train_df['user_id_idx'].nunique()\n",
        "n_items = train_df['item_id_idx'].nunique()\n",
        "print('There are {} unique users and {} unique items in the training set.'.format(n_users, n_items))"
      ],
      "metadata": {
        "id": "TqVmwhV-5p6A",
        "outputId": "380a99b3-bd1d-486a-d946-4d2ad2ace246",
        "colab": {
          "base_uri": "https://localhost:8080/"
        }
      },
      "execution_count": 12,
      "outputs": [
        {
          "output_type": "stream",
          "name": "stdout",
          "text": [
            "There are 943 unique users and 1645 unique items in the training set.\n"
          ]
        }
      ]
    },
    {
      "cell_type": "markdown",
      "source": [
        "PyG represents graphs as sparse lists of node pairs. Since our graph is undirected, we need to include each edge twice, once for the edges from the users to the items and vice-versa.\n",
        "\n",
        "Similar to above, we add `n_users` to the item tensor to ensure that every node in the graph has a unique identifier."
      ],
      "metadata": {
        "id": "0_Ad7UTB6TVR"
      }
    },
    {
      "cell_type": "code",
      "source": [
        "# Add edge index\n",
        "u_t = torch.LongTensor(train_df.user_id_idx)\n",
        "i_t = torch.LongTensor(train_df.item_id_idx) + n_users\n",
        "\n",
        "train_edge_index = torch.stack((\n",
        "  torch.cat([u_t, i_t]),\n",
        "  torch.cat([i_t, u_t])\n",
        ")).to(device)\n",
        "train_edge_index"
      ],
      "metadata": {
        "id": "qlljhNo66Og7",
        "outputId": "c4b7d9c2-ce48-4fcf-d34c-4dd57ca4cece",
        "colab": {
          "base_uri": "https://localhost:8080/"
        }
      },
      "execution_count": 13,
      "outputs": [
        {
          "output_type": "execute_result",
          "data": {
            "text/plain": [
              "tensor([[ 523,  428,  504,  ..., 1128, 1164, 1242],\n",
              "        [1356, 1034, 1114,  ...,  637,  837,   11]], device='cuda:0')"
            ]
          },
          "metadata": {},
          "execution_count": 13
        }
      ]
    },
    {
      "cell_type": "markdown",
      "source": [
        "### Minibatch Sampling"
      ],
      "metadata": {
        "id": "pL1wn8jq7T22"
      }
    },
    {
      "cell_type": "code",
      "source": [],
      "metadata": {
        "id": "_m-TBSki7jAG"
      },
      "execution_count": null,
      "outputs": []
    },
    {
      "cell_type": "markdown",
      "source": [
        "### Model Architecture"
      ],
      "metadata": {
        "id": "arCfvW4Q7cqp"
      }
    },
    {
      "cell_type": "markdown",
      "source": [
        "The model we plan to use is GC-MC, which consists of a graph convolutional encoder model and a pairwise decoder model, to predict the entries in the adjacency matrix $M$. The encoder model $Z=f(X, A)$ takes as input a feature matrix $X$ for all the nodes in the bipartite graph, and a graph adjacency matrix $A$, produces a node embedding matrix $Z$. The decoder model operates on pairs of node embeddings $(z_{i},z_{j})$, where $z_{i}$ is for user embedding and $z_{j}$ is for movie embedding, and predict entries $M_{ij}$ in the output adjacency matrix $M$.\n",
        "\n",
        "\n",
        "The model is then trained on minimizing the rooted mean square error between the predicting ratings in $M$ and the ground-truth labels."
      ],
      "metadata": {
        "id": "mjWkJp3r7kEl"
      }
    },
    {
      "cell_type": "markdown",
      "source": [
        "## 2. MovieLens 1M with node features and LightGCN"
      ],
      "metadata": {
        "id": "R1LWxVRncbmq"
      }
    },
    {
      "cell_type": "markdown",
      "source": [
        "### Dataset Creation"
      ],
      "metadata": {
        "id": "xau9VXRebNC5"
      }
    },
    {
      "cell_type": "code",
      "source": [],
      "metadata": {
        "id": "Gkhyhm2usagH"
      },
      "execution_count": 16,
      "outputs": []
    },
    {
      "cell_type": "code",
      "source": [],
      "metadata": {
        "id": "tHvCpRmMtUpF"
      },
      "execution_count": null,
      "outputs": []
    }
  ]
}