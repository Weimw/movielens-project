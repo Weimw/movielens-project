{
  "nbformat": 4,
  "nbformat_minor": 0,
  "metadata": {
    "colab": {
      "provenance": [],
      "include_colab_link": true
    },
    "kernelspec": {
      "name": "python3",
      "display_name": "Python 3"
    },
    "language_info": {
      "name": "python"
    },
    "accelerator": "GPU",
    "gpuClass": "standard"
  },
  "cells": [
    {
      "cell_type": "markdown",
      "metadata": {
        "id": "view-in-github",
        "colab_type": "text"
      },
      "source": [
        "<a href=\"https://colab.research.google.com/github/Weimw/movielens-project/blob/main/cs224w_project.ipynb\" target=\"_parent\"><img src=\"https://colab.research.google.com/assets/colab-badge.svg\" alt=\"Open In Colab\"/></a>"
      ]
    },
    {
      "cell_type": "markdown",
      "source": [
        "## Installation"
      ],
      "metadata": {
        "id": "aSA-zlRMbCPC"
      }
    },
    {
      "cell_type": "code",
      "source": [
        "%%capture\n",
        "# Install torch geometric\n",
        "!pip install torch-scatter -f https://pytorch-geometric.com/whl/torch-1.13.1+cu116.html\n",
        "!pip install torch-sparse -f https://pytorch-geometric.com/whl/torch-1.13.1+cu116.html\n",
        "!pip install torch-geometric\n",
        "! git clone https://github.com/Weimw/movielens-project.git"
      ],
      "metadata": {
        "id": "xvgsf6tSNj7c"
      },
      "execution_count": 2,
      "outputs": []
    },
    {
      "cell_type": "code",
      "source": [
        "# Standard library imports\n",
        "import random\n",
        "import time\n",
        "\n",
        "# Third-party imports\n",
        "import matplotlib.pyplot as plt\n",
        "import networkx as nx\n",
        "import numpy as np\n",
        "import pandas as pd\n",
        "pd.set_option('display.max_colwidth', None)\n",
        "\n",
        "import torch\n",
        "import torch.nn as nn\n",
        "import torch.nn.functional as F\n",
        "import torch.optim as optim\n",
        "# from torch.utils.data import Dataset, DataLoader\n",
        "import torch_geometric\n",
        "from torch_geometric.nn.conv import MessagePassing\n",
        "from torch_geometric.utils import degree\n",
        "\n",
        "from tqdm.notebook import tqdm\n",
        "from sklearn import preprocessing\n",
        "from sklearn.model_selection import train_test_split\n",
        "import scipy.sparse as sp"
      ],
      "metadata": {
        "id": "supnX-hxyeL-"
      },
      "execution_count": 16,
      "outputs": []
    },
    {
      "cell_type": "code",
      "source": [
        "%cd movielens-project"
      ],
      "metadata": {
        "id": "R8Ns0Z3AftkG",
        "outputId": "00d42993-8399-4fdd-dfba-80d53cdbeaff",
        "colab": {
          "base_uri": "https://localhost:8080/"
        }
      },
      "execution_count": 4,
      "outputs": [
        {
          "output_type": "stream",
          "name": "stdout",
          "text": [
            "/content/movielens-project\n"
          ]
        }
      ]
    },
    {
      "cell_type": "markdown",
      "source": [
        "Double check that our environment is working as expected."
      ],
      "metadata": {
        "id": "JFXQCBh1Xot4"
      }
    },
    {
      "cell_type": "code",
      "source": [
        "torch_geometric.__version__"
      ],
      "metadata": {
        "id": "fd6oxO5vXqr5",
        "outputId": "84856b05-6cb5-4fcf-b0b3-672b7542d29f",
        "colab": {
          "base_uri": "https://localhost:8080/",
          "height": 35
        }
      },
      "execution_count": 6,
      "outputs": [
        {
          "output_type": "execute_result",
          "data": {
            "text/plain": [
              "'2.2.0'"
            ],
            "application/vnd.google.colaboratory.intrinsic+json": {
              "type": "string"
            }
          },
          "metadata": {},
          "execution_count": 6
        }
      ]
    },
    {
      "cell_type": "code",
      "source": [
        "device = torch.device(\"cuda:0\" if torch.cuda.is_available() else \"cpu\")\n",
        "device"
      ],
      "metadata": {
        "id": "waLcG69KX9v8",
        "outputId": "bf51760c-bc21-4cce-fd4d-617905983da0",
        "colab": {
          "base_uri": "https://localhost:8080/"
        }
      },
      "execution_count": 7,
      "outputs": [
        {
          "output_type": "execute_result",
          "data": {
            "text/plain": [
              "device(type='cuda', index=0)"
            ]
          },
          "metadata": {},
          "execution_count": 7
        }
      ]
    },
    {
      "cell_type": "markdown",
      "source": [
        "##1. MovieLens 100K without node features"
      ],
      "metadata": {
        "id": "iWYZif5UcHQU"
      }
    },
    {
      "cell_type": "markdown",
      "source": [
        "### Dataset Preprocessing"
      ],
      "metadata": {
        "id": "bJnGMox0cy87"
      }
    },
    {
      "cell_type": "code",
      "source": [
        "col_names = ['user_id','item_id','rating','timestamp']\n",
        "df = pd.read_csv(\"./data/ml_100k/u.data\",sep = \"\\t\", names = col_names)\n",
        "df.drop('timestamp', axis = 1, inplace = True)\n",
        "print('The whole dataset has {} entries'.format(len(df)))\n",
        "display(df.head(5))"
      ],
      "metadata": {
        "id": "Rafqf0R1ysaI",
        "outputId": "5f5c2f6a-ad48-403a-ce4e-35da598357b8",
        "colab": {
          "base_uri": "https://localhost:8080/",
          "height": 224
        }
      },
      "execution_count": 8,
      "outputs": [
        {
          "output_type": "stream",
          "name": "stdout",
          "text": [
            "The whole dataset has 100000 entries\n"
          ]
        },
        {
          "output_type": "display_data",
          "data": {
            "text/plain": [
              "   user_id  item_id  rating\n",
              "0      196      242       3\n",
              "1      186      302       3\n",
              "2       22      377       1\n",
              "3      244       51       2\n",
              "4      166      346       1"
            ],
            "text/html": [
              "\n",
              "  <div id=\"df-1e80f28c-6a64-4197-a719-bd681e50a657\">\n",
              "    <div class=\"colab-df-container\">\n",
              "      <div>\n",
              "<style scoped>\n",
              "    .dataframe tbody tr th:only-of-type {\n",
              "        vertical-align: middle;\n",
              "    }\n",
              "\n",
              "    .dataframe tbody tr th {\n",
              "        vertical-align: top;\n",
              "    }\n",
              "\n",
              "    .dataframe thead th {\n",
              "        text-align: right;\n",
              "    }\n",
              "</style>\n",
              "<table border=\"1\" class=\"dataframe\">\n",
              "  <thead>\n",
              "    <tr style=\"text-align: right;\">\n",
              "      <th></th>\n",
              "      <th>user_id</th>\n",
              "      <th>item_id</th>\n",
              "      <th>rating</th>\n",
              "    </tr>\n",
              "  </thead>\n",
              "  <tbody>\n",
              "    <tr>\n",
              "      <th>0</th>\n",
              "      <td>196</td>\n",
              "      <td>242</td>\n",
              "      <td>3</td>\n",
              "    </tr>\n",
              "    <tr>\n",
              "      <th>1</th>\n",
              "      <td>186</td>\n",
              "      <td>302</td>\n",
              "      <td>3</td>\n",
              "    </tr>\n",
              "    <tr>\n",
              "      <th>2</th>\n",
              "      <td>22</td>\n",
              "      <td>377</td>\n",
              "      <td>1</td>\n",
              "    </tr>\n",
              "    <tr>\n",
              "      <th>3</th>\n",
              "      <td>244</td>\n",
              "      <td>51</td>\n",
              "      <td>2</td>\n",
              "    </tr>\n",
              "    <tr>\n",
              "      <th>4</th>\n",
              "      <td>166</td>\n",
              "      <td>346</td>\n",
              "      <td>1</td>\n",
              "    </tr>\n",
              "  </tbody>\n",
              "</table>\n",
              "</div>\n",
              "      <button class=\"colab-df-convert\" onclick=\"convertToInteractive('df-1e80f28c-6a64-4197-a719-bd681e50a657')\"\n",
              "              title=\"Convert this dataframe to an interactive table.\"\n",
              "              style=\"display:none;\">\n",
              "        \n",
              "  <svg xmlns=\"http://www.w3.org/2000/svg\" height=\"24px\"viewBox=\"0 0 24 24\"\n",
              "       width=\"24px\">\n",
              "    <path d=\"M0 0h24v24H0V0z\" fill=\"none\"/>\n",
              "    <path d=\"M18.56 5.44l.94 2.06.94-2.06 2.06-.94-2.06-.94-.94-2.06-.94 2.06-2.06.94zm-11 1L8.5 8.5l.94-2.06 2.06-.94-2.06-.94L8.5 2.5l-.94 2.06-2.06.94zm10 10l.94 2.06.94-2.06 2.06-.94-2.06-.94-.94-2.06-.94 2.06-2.06.94z\"/><path d=\"M17.41 7.96l-1.37-1.37c-.4-.4-.92-.59-1.43-.59-.52 0-1.04.2-1.43.59L10.3 9.45l-7.72 7.72c-.78.78-.78 2.05 0 2.83L4 21.41c.39.39.9.59 1.41.59.51 0 1.02-.2 1.41-.59l7.78-7.78 2.81-2.81c.8-.78.8-2.07 0-2.86zM5.41 20L4 18.59l7.72-7.72 1.47 1.35L5.41 20z\"/>\n",
              "  </svg>\n",
              "      </button>\n",
              "      \n",
              "  <style>\n",
              "    .colab-df-container {\n",
              "      display:flex;\n",
              "      flex-wrap:wrap;\n",
              "      gap: 12px;\n",
              "    }\n",
              "\n",
              "    .colab-df-convert {\n",
              "      background-color: #E8F0FE;\n",
              "      border: none;\n",
              "      border-radius: 50%;\n",
              "      cursor: pointer;\n",
              "      display: none;\n",
              "      fill: #1967D2;\n",
              "      height: 32px;\n",
              "      padding: 0 0 0 0;\n",
              "      width: 32px;\n",
              "    }\n",
              "\n",
              "    .colab-df-convert:hover {\n",
              "      background-color: #E2EBFA;\n",
              "      box-shadow: 0px 1px 2px rgba(60, 64, 67, 0.3), 0px 1px 3px 1px rgba(60, 64, 67, 0.15);\n",
              "      fill: #174EA6;\n",
              "    }\n",
              "\n",
              "    [theme=dark] .colab-df-convert {\n",
              "      background-color: #3B4455;\n",
              "      fill: #D2E3FC;\n",
              "    }\n",
              "\n",
              "    [theme=dark] .colab-df-convert:hover {\n",
              "      background-color: #434B5C;\n",
              "      box-shadow: 0px 1px 3px 1px rgba(0, 0, 0, 0.15);\n",
              "      filter: drop-shadow(0px 1px 2px rgba(0, 0, 0, 0.3));\n",
              "      fill: #FFFFFF;\n",
              "    }\n",
              "  </style>\n",
              "\n",
              "      <script>\n",
              "        const buttonEl =\n",
              "          document.querySelector('#df-1e80f28c-6a64-4197-a719-bd681e50a657 button.colab-df-convert');\n",
              "        buttonEl.style.display =\n",
              "          google.colab.kernel.accessAllowed ? 'block' : 'none';\n",
              "\n",
              "        async function convertToInteractive(key) {\n",
              "          const element = document.querySelector('#df-1e80f28c-6a64-4197-a719-bd681e50a657');\n",
              "          const dataTable =\n",
              "            await google.colab.kernel.invokeFunction('convertToInteractive',\n",
              "                                                     [key], {});\n",
              "          if (!dataTable) return;\n",
              "\n",
              "          const docLinkHtml = 'Like what you see? Visit the ' +\n",
              "            '<a target=\"_blank\" href=https://colab.research.google.com/notebooks/data_table.ipynb>data table notebook</a>'\n",
              "            + ' to learn more about interactive tables.';\n",
              "          element.innerHTML = '';\n",
              "          dataTable['output_type'] = 'display_data';\n",
              "          await google.colab.output.renderOutput(dataTable, element);\n",
              "          const docLink = document.createElement('div');\n",
              "          docLink.innerHTML = docLinkHtml;\n",
              "          element.appendChild(docLink);\n",
              "        }\n",
              "      </script>\n",
              "    </div>\n",
              "  </div>\n",
              "  "
            ]
          },
          "metadata": {}
        }
      ]
    },
    {
      "cell_type": "code",
      "source": [
        "# plot the distribution of ratings\n",
        "fig, ax = plt.subplots()\n",
        "ax.hist(df['rating'], bins = np.arange(0,6) + 0.5)\n",
        "ax.set_xlabel('Rating')\n",
        "plt.show()"
      ],
      "metadata": {
        "id": "KbqWVnlairjK",
        "outputId": "cab71182-059e-4bce-d08d-5091d603f401",
        "colab": {
          "base_uri": "https://localhost:8080/",
          "height": 279
        }
      },
      "execution_count": 15,
      "outputs": [
        {
          "output_type": "display_data",
          "data": {
            "text/plain": [
              "<Figure size 432x288 with 1 Axes>"
            ],
            "image/png": "[encoded data removed]"
          },
          "metadata": {
            "needs_background": "light"
          }
        }
      ]
    },
    {
      "cell_type": "code",
      "source": [
        "# Perform a train-test split based on interaction level\n",
        "train, test = train_test_split(df.values, test_size = 0.2, random_state = 16)\n",
        "train_df = pd.DataFrame(train, columns = df.columns)\n",
        "test_df = pd.DataFrame(test, columns = df.columns)"
      ],
      "metadata": {
        "id": "2ECoNB7K1GDX"
      },
      "execution_count": 17,
      "outputs": []
    },
    {
      "cell_type": "code",
      "source": [
        "print(\"Size of training set: \", len(train_df))\n",
        "print(\"Size of test set: \", len(test_df))"
      ],
      "metadata": {
        "id": "Hd1MdYm03BxQ",
        "outputId": "20aa92ce-cc61-47bf-e9e6-903876c72ff6",
        "colab": {
          "base_uri": "https://localhost:8080/"
        }
      },
      "execution_count": 18,
      "outputs": [
        {
          "output_type": "stream",
          "name": "stdout",
          "text": [
            "Size of training set:  80000\n",
            "Size of test set:  20000\n"
          ]
        }
      ]
    },
    {
      "cell_type": "markdown",
      "source": [
        "Since the split is based on rating level, not all users and items are presenting in the training set. Thus, we will filter the test set to only include user, item appeared in the training set."
      ],
      "metadata": {
        "id": "-dX0t1ul3RiG"
      }
    },
    {
      "cell_type": "code",
      "source": [
        "# Encode target labels with value between 0 and n_classes-1.\n",
        "en_user = preprocessing.LabelEncoder()\n",
        "en_item = preprocessing.LabelEncoder()\n",
        "train_df['user_id_idx'] = en_user.fit_transform(train_df['user_id'].values)\n",
        "train_df['item_id_idx'] = en_item.fit_transform(train_df['item_id'].values)\n",
        "\n",
        "train_user_ids = train_df['user_id'].unique()\n",
        "train_item_ids = train_df['item_id'].unique()\n",
        "\n",
        "# filter test df\n",
        "has_user = test_df['user_id'].isin(train_user_ids)\n",
        "has_item = test_df['item_id'].isin(train_item_ids)\n",
        "test_df = test_df[has_user & has_item]\n",
        "print(len(test_df))"
      ],
      "metadata": {
        "id": "0vvqJwbE3P9n",
        "outputId": "68390ecc-0ac9-4f55-eabb-8af4fd751c20",
        "colab": {
          "base_uri": "https://localhost:8080/"
        }
      },
      "execution_count": 20,
      "outputs": [
        {
          "output_type": "stream",
          "name": "stdout",
          "text": [
            "19958\n"
          ]
        }
      ]
    },
    {
      "cell_type": "code",
      "source": [
        "test_df['user_id_idx'] = en_user.transform(test_df['user_id'].values)\n",
        "test_df['item_id_idx'] = en_item.transform(test_df['item_id'].values)"
      ],
      "metadata": {
        "id": "dnjrZSPe5Ifz"
      },
      "execution_count": 21,
      "outputs": []
    },
    {
      "cell_type": "code",
      "source": [
        "# Get number of unique users and items\n",
        "n_users = train_df['user_id_idx'].nunique()\n",
        "n_items = train_df['item_id_idx'].nunique()\n",
        "print('There are {} unique users and {} unique items in the training set.'.format(n_users, n_items))"
      ],
      "metadata": {
        "id": "TqVmwhV-5p6A",
        "outputId": "1f1a57c7-ce8c-4aa8-dd2d-0564c7502353",
        "colab": {
          "base_uri": "https://localhost:8080/"
        }
      },
      "execution_count": 24,
      "outputs": [
        {
          "output_type": "stream",
          "name": "stdout",
          "text": [
            "There are 943 unique users and 1645 unique items in the training set.\n"
          ]
        }
      ]
    },
    {
      "cell_type": "markdown",
      "source": [
        "PyG represents graphs as sparse lists of node pairs. Since our graph is undirected, we need to include each edge twice, once for the edges from the users to the items and vice-versa.\n",
        "\n",
        "Similar to above, we add `n_users` to the item tensor to ensure that every node in the graph has a unique identifier."
      ],
      "metadata": {
        "id": "0_Ad7UTB6TVR"
      }
    },
    {
      "cell_type": "code",
      "source": [
        "# Add edge index\n",
        "u_t = torch.LongTensor(train_df.user_id_idx)\n",
        "i_t = torch.LongTensor(train_df.item_id_idx) + n_users\n",
        "\n",
        "train_edge_index = torch.stack((\n",
        "  torch.cat([u_t, i_t]),\n",
        "  torch.cat([i_t, u_t])\n",
        ")).to(device)\n",
        "train_edge_index"
      ],
      "metadata": {
        "id": "qlljhNo66Og7",
        "outputId": "3bbe347a-ab35-47df-b8d4-349e881c94b1",
        "colab": {
          "base_uri": "https://localhost:8080/"
        }
      },
      "execution_count": 25,
      "outputs": [
        {
          "output_type": "execute_result",
          "data": {
            "text/plain": [
              "tensor([[ 523,  428,  504,  ..., 1128, 1164, 1242],\n",
              "        [1356, 1034, 1114,  ...,  637,  837,   11]], device='cuda:0')"
            ]
          },
          "metadata": {},
          "execution_count": 25
        }
      ]
    },
    {
      "cell_type": "markdown",
      "source": [
        "### Minibatch Sampling"
      ],
      "metadata": {
        "id": "pL1wn8jq7T22"
      }
    },
    {
      "cell_type": "code",
      "source": [],
      "metadata": {
        "id": "_m-TBSki7jAG"
      },
      "execution_count": null,
      "outputs": []
    },
    {
      "cell_type": "markdown",
      "source": [
        "### Model Architecture"
      ],
      "metadata": {
        "id": "arCfvW4Q7cqp"
      }
    },
    {
      "cell_type": "markdown",
      "source": [
        "The model we plan to use is GC-MC, which consists of a graph convolutional encoder model and a pairwise decoder model, to predict the entries in the adjacency matrix $M$. The encoder model $Z=f(X, A)$ takes as input a feature matrix $X$ for all the nodes in the bipartite graph, and a graph adjacency matrix $A$, produces a node embedding matrix $Z$. The decoder model operates on pairs of node embeddings $(z_{i},z_{j})$, where $z_{i}$ is for user embedding and $z_{j}$ is for movie embedding, and predict entries $M_{ij}$ in the output adjacency matrix $M$.\n",
        "\n",
        "\n",
        "The model is then trained on minimizing the rooted mean square error between the predicting ratings in $M$ and the ground-truth labels."
      ],
      "metadata": {
        "id": "mjWkJp3r7kEl"
      }
    },
    {
      "cell_type": "markdown",
      "source": [
        "## 2. MovieLens 1M with node features and LightGCN"
      ],
      "metadata": {
        "id": "R1LWxVRncbmq"
      }
    },
    {
      "cell_type": "markdown",
      "source": [
        "### Dataset Creation"
      ],
      "metadata": {
        "id": "xau9VXRebNC5"
      }
    }
  ]
}